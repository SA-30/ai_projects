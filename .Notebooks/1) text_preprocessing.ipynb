{
 "cells": [
  {
   "cell_type": "markdown",
   "id": "3bf098b8",
   "metadata": {},
   "source": [
    "## *Text Lowercase*"
   ]
  },
  {
   "cell_type": "code",
   "execution_count": 6,
   "id": "e3b20922",
   "metadata": {},
   "outputs": [],
   "source": [
    "sentence = \"His best friend is his dog Lemmatization\""
   ]
  },
  {
   "cell_type": "code",
   "execution_count": 7,
   "id": "aee7b87b",
   "metadata": {},
   "outputs": [],
   "source": [
    "lower_sentence = sentence.lower() "
   ]
  },
  {
   "cell_type": "code",
   "execution_count": 8,
   "id": "b1498172",
   "metadata": {},
   "outputs": [
    {
     "name": "stdout",
     "output_type": "stream",
     "text": [
      "his best friend is his dog lemmatization\n"
     ]
    }
   ],
   "source": [
    "print(lower_sentence)"
   ]
  },
  {
   "cell_type": "code",
   "execution_count": 9,
   "id": "49d12ad6",
   "metadata": {},
   "outputs": [],
   "source": [
    "sentence_list = ['Hey! Good morning to you.',\n",
    "                 \"Don't worry about it.\",\n",
    "                 \"Aren't you Cat disguising as a Dog?\"]"
   ]
  },
  {
   "cell_type": "code",
   "execution_count": 14,
   "id": "5b26e537",
   "metadata": {},
   "outputs": [],
   "source": [
    "lower_sentence_list = [sen.lower() for sen in sentence_list]"
   ]
  },
  {
   "cell_type": "code",
   "execution_count": 15,
   "id": "c3b8205c",
   "metadata": {},
   "outputs": [
    {
     "data": {
      "text/plain": [
       "['hey! good morning to you.',\n",
       " \"don't worry about it.\",\n",
       " \"aren't you cat disguising as a dog?\"]"
      ]
     },
     "execution_count": 15,
     "metadata": {},
     "output_type": "execute_result"
    }
   ],
   "source": [
    "lower_sentence_list"
   ]
  },
  {
   "cell_type": "markdown",
   "id": "49484453",
   "metadata": {},
   "source": [
    "## *Stop words removal*"
   ]
  },
  {
   "cell_type": "code",
   "execution_count": 18,
   "id": "2824ffb2",
   "metadata": {},
   "outputs": [
    {
     "name": "stderr",
     "output_type": "stream",
     "text": [
      "[nltk_data] Downloading package stopwords to\n",
      "[nltk_data]     /home/annabale7/nltk_data...\n",
      "[nltk_data]   Unzipping corpora/stopwords.zip.\n"
     ]
    }
   ],
   "source": [
    "import nltk\n",
    "nltk.download('stopwords')\n",
    "from nltk.corpus import stopwords"
   ]
  },
  {
   "cell_type": "code",
   "execution_count": 19,
   "id": "6a1f8964",
   "metadata": {},
   "outputs": [],
   "source": [
    "en_stopwords = stopwords.words('english')"
   ]
  },
  {
   "cell_type": "code",
   "execution_count": 21,
   "id": "f6e60552",
   "metadata": {},
   "outputs": [],
   "source": [
    "sentence = \"It was too far to go to the market and he did not want her to hurt her legs\""
   ]
  },
  {
   "cell_type": "code",
   "execution_count": 24,
   "id": "fa84774d",
   "metadata": {},
   "outputs": [],
   "source": [
    "sentence = sentence.lower()"
   ]
  },
  {
   "cell_type": "code",
   "execution_count": 25,
   "id": "0bcd96ae",
   "metadata": {},
   "outputs": [],
   "source": [
    "sentence_with_no_stop_words = ' '.join([word for word in sentence.split() if word not in en_stopwords])"
   ]
  },
  {
   "cell_type": "code",
   "execution_count": 26,
   "id": "819cd90f",
   "metadata": {},
   "outputs": [
    {
     "data": {
      "text/plain": [
       "'far go market want hurt legs'"
      ]
     },
     "execution_count": 26,
     "metadata": {},
     "output_type": "execute_result"
    }
   ],
   "source": [
    "sentence_with_no_stop_words"
   ]
  },
  {
   "cell_type": "code",
   "execution_count": 27,
   "id": "2189c79f",
   "metadata": {},
   "outputs": [],
   "source": [
    "en_stopwords.remove(\"did\")\n",
    "en_stopwords.remove(\"not\")"
   ]
  },
  {
   "cell_type": "code",
   "execution_count": 28,
   "id": "7320cabb",
   "metadata": {},
   "outputs": [],
   "source": [
    "en_stopwords.append(\"go\")"
   ]
  },
  {
   "cell_type": "code",
   "execution_count": 30,
   "id": "c01c1fdb",
   "metadata": {},
   "outputs": [
    {
     "data": {
      "text/plain": [
       "'far market did not want hurt legs'"
      ]
     },
     "execution_count": 30,
     "metadata": {},
     "output_type": "execute_result"
    }
   ],
   "source": [
    "custom_sentence_with_no_stop_words = ' '.join([word for word in sentence.split() if word not in en_stopwords])\n",
    "custom_sentence_with_no_stop_words"
   ]
  },
  {
   "cell_type": "markdown",
   "id": "e921a8a1",
   "metadata": {},
   "source": [
    "## *Regular expression*"
   ]
  },
  {
   "cell_type": "code",
   "execution_count": 43,
   "id": "47ebb12d",
   "metadata": {},
   "outputs": [],
   "source": [
    "import re"
   ]
  },
  {
   "cell_type": "code",
   "execution_count": 44,
   "id": "44fb7edb",
   "metadata": {},
   "outputs": [
    {
     "name": "stdout",
     "output_type": "stream",
     "text": [
      "c:\\Downloads\\notes\n"
     ]
    }
   ],
   "source": [
    "folder_path = r\"c:\\Downloads\\notes\"\n",
    "print(folder_path)\n"
   ]
  },
  {
   "cell_type": "code",
   "execution_count": 45,
   "id": "ade03e5d",
   "metadata": {},
   "outputs": [],
   "source": [
    "search_res = re.search(\"pattern\", r\"string to contain pattern\")"
   ]
  },
  {
   "cell_type": "code",
   "execution_count": 46,
   "id": "adbdf465",
   "metadata": {},
   "outputs": [
    {
     "name": "stdout",
     "output_type": "stream",
     "text": [
      "<re.Match object; span=(18, 25), match='pattern'>\n"
     ]
    }
   ],
   "source": [
    "print(search_res)"
   ]
  },
  {
   "cell_type": "code",
   "execution_count": 48,
   "id": "b156ec3e",
   "metadata": {},
   "outputs": [],
   "source": [
    "search_res_2 = re.search(\"pat\", r\"this is not the sentence\")"
   ]
  },
  {
   "cell_type": "code",
   "execution_count": 50,
   "id": "f0be0f27",
   "metadata": {},
   "outputs": [
    {
     "name": "stdout",
     "output_type": "stream",
     "text": [
      "None\n"
     ]
    }
   ],
   "source": [
    "print(search_res_2)"
   ]
  },
  {
   "cell_type": "code",
   "execution_count": 51,
   "id": "5e3ae085",
   "metadata": {},
   "outputs": [],
   "source": [
    "string = r\"i dont like this behaviour from ram\""
   ]
  },
  {
   "cell_type": "code",
   "execution_count": 52,
   "id": "f2fa4def",
   "metadata": {},
   "outputs": [],
   "source": [
    "# Replacing strings using re\n",
    "new_string = re.sub('ram', 'rama', string)"
   ]
  },
  {
   "cell_type": "code",
   "execution_count": 54,
   "id": "907a941e",
   "metadata": {},
   "outputs": [
    {
     "name": "stdout",
     "output_type": "stream",
     "text": [
      "i dont like this behaviour from rama\n"
     ]
    }
   ],
   "source": [
    "print(new_string)"
   ]
  },
  {
   "cell_type": "code",
   "execution_count": 55,
   "id": "fc9bbd05",
   "metadata": {},
   "outputs": [],
   "source": [
    "pattern_to_find = r\"rama?\" # \\? after a word is used for optional"
   ]
  },
  {
   "cell_type": "code",
   "execution_count": 56,
   "id": "51b4c173",
   "metadata": {},
   "outputs": [],
   "source": [
    "pattern_to_find_2 = r\"^a\" # starts with the letter a\n",
    "pattern_to_find_3 = r\"a$\" # ends with the letter a\n",
    "pattern_to_find_3 = r\"(need|want)ed\" # mulitple words\n"
   ]
  },
  {
   "cell_type": "code",
   "execution_count": null,
   "id": "f4d44305",
   "metadata": {},
   "outputs": [],
   "source": [
    "# Removing punctuations \n",
    "pattern_to_find = r\"[^\\w\\s]\" #[^] means not \\w -> words and \\s -> space "
   ]
  },
  {
   "cell_type": "code",
   "execution_count": null,
   "id": "8036b496",
   "metadata": {},
   "outputs": [],
   "source": []
  },
  {
   "cell_type": "markdown",
   "id": "cff850fe",
   "metadata": {},
   "source": [
    "## *Tokenization*"
   ]
  },
  {
   "cell_type": "code",
   "execution_count": 63,
   "id": "f7664b00",
   "metadata": {},
   "outputs": [
    {
     "name": "stderr",
     "output_type": "stream",
     "text": [
      "[nltk_data] Downloading package punkt_tab to\n",
      "[nltk_data]     /home/annabale7/nltk_data...\n",
      "[nltk_data]   Unzipping tokenizers/punkt_tab.zip.\n"
     ]
    }
   ],
   "source": [
    "import nltk\n",
    "nltk.download('punkt_tab')\n",
    "from nltk.tokenize import word_tokenize, sent_tokenize"
   ]
  },
  {
   "cell_type": "code",
   "execution_count": 64,
   "id": "6bb18d43",
   "metadata": {},
   "outputs": [],
   "source": [
    "sentences = \"His dog's name is Hufa. Her cat's name is Dragon Slayer\""
   ]
  },
  {
   "cell_type": "code",
   "execution_count": 66,
   "id": "58601ec7",
   "metadata": {},
   "outputs": [
    {
     "data": {
      "text/plain": [
       "[\"His dog's name is Hufa.\", \"Her cat's name is Dragon Slayer\"]"
      ]
     },
     "execution_count": 66,
     "metadata": {},
     "output_type": "execute_result"
    }
   ],
   "source": [
    "sent_tokenize(sentences)"
   ]
  },
  {
   "cell_type": "code",
   "execution_count": 67,
   "id": "8e8a3e59",
   "metadata": {},
   "outputs": [],
   "source": [
    "sentence = \"His dog's name is Hufa\""
   ]
  },
  {
   "cell_type": "code",
   "execution_count": 68,
   "id": "eb36f0e9",
   "metadata": {},
   "outputs": [
    {
     "data": {
      "text/plain": [
       "['His', 'dog', \"'s\", 'name', 'is', 'Hufa']"
      ]
     },
     "execution_count": 68,
     "metadata": {},
     "output_type": "execute_result"
    }
   ],
   "source": [
    "word_tokenize(sentence)"
   ]
  },
  {
   "cell_type": "code",
   "execution_count": 69,
   "id": "ae6b7ad1",
   "metadata": {},
   "outputs": [],
   "source": [
    "sentence_2 = \"His dog's name is Hufa and her cat's name is Dragon Slayer\""
   ]
  },
  {
   "cell_type": "code",
   "execution_count": 70,
   "id": "79c17fbb",
   "metadata": {},
   "outputs": [
    {
     "data": {
      "text/plain": [
       "['His',\n",
       " 'dog',\n",
       " \"'s\",\n",
       " 'name',\n",
       " 'is',\n",
       " 'Hufa',\n",
       " 'and',\n",
       " 'her',\n",
       " 'cat',\n",
       " \"'s\",\n",
       " 'name',\n",
       " 'is',\n",
       " 'Dragon',\n",
       " 'Slayer']"
      ]
     },
     "execution_count": 70,
     "metadata": {},
     "output_type": "execute_result"
    }
   ],
   "source": [
    "word_tokenize(sentence_2)"
   ]
  },
  {
   "cell_type": "markdown",
   "id": "4556f9d1",
   "metadata": {},
   "source": [
    "## *Stemming*\n",
    "\n",
    "Standarizing the words\n",
    "- eg: Connecting, connected -> connect"
   ]
  },
  {
   "cell_type": "code",
   "execution_count": 71,
   "id": "a62e4ba1",
   "metadata": {},
   "outputs": [],
   "source": [
    "from nltk.stem import PorterStemmer"
   ]
  },
  {
   "cell_type": "code",
   "execution_count": 72,
   "id": "da628008",
   "metadata": {},
   "outputs": [],
   "source": [
    "ps = PorterStemmer()"
   ]
  },
  {
   "cell_type": "code",
   "execution_count": 73,
   "id": "ba8854ff",
   "metadata": {},
   "outputs": [],
   "source": [
    "connect_tokens = ['connected', 'connecting', 'connection', 'connectivity', 'connect', 'connects']"
   ]
  },
  {
   "cell_type": "code",
   "execution_count": 75,
   "id": "403a8b08",
   "metadata": {},
   "outputs": [
    {
     "name": "stdout",
     "output_type": "stream",
     "text": [
      "connected :  connect\n",
      "connecting :  connect\n",
      "connection :  connect\n",
      "connectivity :  connect\n",
      "connect :  connect\n",
      "connects :  connect\n"
     ]
    }
   ],
   "source": [
    "for tok in connect_tokens:\n",
    "    print(tok, \": \", ps.stem(tok))"
   ]
  },
  {
   "cell_type": "code",
   "execution_count": 81,
   "id": "9866e5ee",
   "metadata": {},
   "outputs": [],
   "source": [
    "likes_tokens = ['goods', 'likes', 'better', 'worse']"
   ]
  },
  {
   "cell_type": "code",
   "execution_count": 82,
   "id": "c926f9ed",
   "metadata": {},
   "outputs": [
    {
     "name": "stdout",
     "output_type": "stream",
     "text": [
      "goods :  good\n",
      "likes :  like\n",
      "better :  better\n",
      "worse :  wors\n"
     ]
    }
   ],
   "source": [
    "for t in likes_tokens:\n",
    "    print(t, \": \", ps.stem(t))"
   ]
  },
  {
   "cell_type": "markdown",
   "id": "3a022332",
   "metadata": {},
   "source": [
    "## *Lemmatization*\n",
    "\n",
    "Same as ***Stemming*** but little unique \n",
    "- ( change to its meaningfull base form)"
   ]
  },
  {
   "cell_type": "code",
   "execution_count": 83,
   "id": "144e5efc",
   "metadata": {},
   "outputs": [
    {
     "name": "stderr",
     "output_type": "stream",
     "text": [
      "[nltk_data] Downloading package wordnet to\n",
      "[nltk_data]     /home/annabale7/nltk_data...\n"
     ]
    }
   ],
   "source": [
    "nltk.download('wordnet')\n",
    "from nltk.stem import WordNetLemmatizer"
   ]
  },
  {
   "cell_type": "code",
   "execution_count": 84,
   "id": "63284469",
   "metadata": {},
   "outputs": [],
   "source": [
    "lemmatizer = WordNetLemmatizer()"
   ]
  },
  {
   "cell_type": "code",
   "execution_count": 85,
   "metadata": {},
   "outputs": [],
   "source": [
    "connect_tokens = ['connected', 'connecting', 'connection', 'connectivity', 'connect', 'connects']\n",
    "likes_tokens = ['goods', 'likes', 'better', 'worse']"
   ]
  },
  {
   "cell_type": "code",
   "execution_count": 86,
   "id": "7495f0bb",
   "metadata": {},
   "outputs": [
    {
     "name": "stdout",
     "output_type": "stream",
     "text": [
      "connected :  connected\n",
      "connecting :  connecting\n",
      "connection :  connection\n",
      "connectivity :  connectivity\n",
      "connect :  connect\n",
      "connects :  connects\n"
     ]
    }
   ],
   "source": [
    "for t in connect_tokens:\n",
    "    print(t, \": \", lemmatizer.lemmatize(t))"
   ]
  },
  {
   "cell_type": "code",
   "execution_count": 87,
   "id": "a3e47aa0",
   "metadata": {},
   "outputs": [
    {
     "name": "stdout",
     "output_type": "stream",
     "text": [
      "goods :  good\n",
      "likes :  like\n",
      "better :  better\n",
      "worse :  worse\n"
     ]
    }
   ],
   "source": [
    "for t in likes_tokens:\n",
    "    print(t, \": \", lemmatizer.lemmatize(t))"
   ]
  },
  {
   "cell_type": "markdown",
   "id": "7cc1e6e9",
   "metadata": {},
   "source": [
    "## *N-grams*"
   ]
  },
  {
   "cell_type": "code",
   "execution_count": 88,
   "id": "559cc1b8",
   "metadata": {},
   "outputs": [],
   "source": [
    "import nltk\n",
    "import pandas as pd\n",
    "import matplotlib.pyplot as plt"
   ]
  },
  {
   "cell_type": "code",
   "execution_count": 89,
   "id": "e37bccb0",
   "metadata": {},
   "outputs": [
    {
     "name": "stdout",
     "output_type": "stream",
     "text": [
      "['the', 'growth', 'of', 'the', 'market', 'has', 'led', 'to', 'the', 'advancement', 'of', 'unique', 'demands', 'of', 'consumers']\n"
     ]
    }
   ],
   "source": [
    "tokens = ['the', 'growth', 'of', 'the', 'market', 'has', 'led', 'to', 'the', 'advancement', 'of', 'unique', 'demands', 'of', 'consumers']\n",
    "print(tokens)"
   ]
  },
  {
   "cell_type": "code",
   "execution_count": 92,
   "id": "07102848",
   "metadata": {},
   "outputs": [
    {
     "name": "stdout",
     "output_type": "stream",
     "text": [
      "(the,)            3\n",
      "(of,)             3\n",
      "(growth,)         1\n",
      "(market,)         1\n",
      "(has,)            1\n",
      "(led,)            1\n",
      "(to,)             1\n",
      "(advancement,)    1\n",
      "(unique,)         1\n",
      "(demands,)        1\n",
      "(consumers,)      1\n",
      "Name: count, dtype: int64\n"
     ]
    }
   ],
   "source": [
    "unigrams = (pd.Series(nltk.ngrams(tokens, 1)).value_counts())\n",
    "print(unigrams)"
   ]
  },
  {
   "cell_type": "code",
   "execution_count": 112,
   "id": "f3b652cf",
   "metadata": {},
   "outputs": [
    {
     "data": {
      "text/plain": [
       "Text(0.5, 1.0, '5 most frequently occuring Unigrams')"
      ]
     },
     "execution_count": 112,
     "metadata": {},
     "output_type": "execute_result"
    },
    {
     "data": {
      "image/png": "[encoded data removed]",
      "text/plain": [
       "<Figure size 600x400 with 1 Axes>"
      ]
     },
     "metadata": {},
     "output_type": "display_data"
    }
   ],
   "source": [
    "unigrams[:5].sort_values().plot.barh(color='violet', width=0.8, figsize=(6, 4))\n",
    "plt.title(\"5 most frequently occuring Unigrams\")"
   ]
  },
  {
   "cell_type": "code",
   "execution_count": 103,
   "id": "f4868b69",
   "metadata": {},
   "outputs": [
    {
     "name": "stdout",
     "output_type": "stream",
     "text": [
      "(the, growth)         1\n",
      "(growth, of)          1\n",
      "(of, the)             1\n",
      "(the, market)         1\n",
      "(market, has)         1\n",
      "(has, led)            1\n",
      "(led, to)             1\n",
      "(to, the)             1\n",
      "(the, advancement)    1\n",
      "(advancement, of)     1\n",
      "(of, unique)          1\n",
      "(unique, demands)     1\n",
      "(demands, of)         1\n",
      "(of, consumers)       1\n",
      "Name: count, dtype: int64\n"
     ]
    }
   ],
   "source": [
    "bigrams = (pd.Series(nltk.ngrams(tokens, 2)).value_counts())\n",
    "print(bigrams)"
   ]
  },
  {
   "cell_type": "code",
   "execution_count": 110,
   "id": "bbd92a41",
   "metadata": {},
   "outputs": [
    {
     "name": "stdout",
     "output_type": "stream",
     "text": [
      "(the, growth)         1\n",
      "(growth, of)          1\n",
      "(of, the)             1\n",
      "(the, market)         1\n",
      "(market, has)         1\n",
      "(has, led)            1\n",
      "(led, to)             1\n",
      "(to, the)             1\n",
      "(the, advancement)    1\n",
      "(advancement, of)     1\n",
      "(of, unique)          1\n",
      "(unique, demands)     1\n",
      "(demands, of)         1\n",
      "(of, consumers)       1\n",
      "Name: count, dtype: int64\n"
     ]
    }
   ],
   "source": [
    "trigrams = (pd.Series(nltk.ngrams(tokens, 2)).value_counts())\n",
    "print(trigrams)"
   ]
  },
  {
   "cell_type": "markdown",
   "id": "cb58714b",
   "metadata": {},
   "source": [
    "## ***Practical***\n",
    "\n",
    "Use all of these text pre-processing steps\n",
    "- lowercase\n",
    "- stop word removal\n",
    "- punctuation removal using regex\n",
    "- tokenization\n",
    "- stemming\n",
    "- lemmatization\n",
    "- n-grams"
   ]
  },
  {
   "cell_type": "code",
   "execution_count": 1,
   "id": "0b7c21a1",
   "metadata": {},
   "outputs": [],
   "source": [
    "import matplotlib.pyplot as plt\n",
    "import pandas as pd\n",
    "import re\n",
    "\n",
    "import nltk\n",
    "from nltk.stem import PorterStemmer, WordNetLemmatizer\n",
    "from nltk.tokenize import word_tokenize\n",
    "from nltk.corpus import stopwords\n"
   ]
  },
  {
   "cell_type": "code",
   "execution_count": 2,
   "id": "b2109f58",
   "metadata": {},
   "outputs": [
    {
     "data": {
      "text/html": [
       "<div>\n",
       "<style scoped>\n",
       "    .dataframe tbody tr th:only-of-type {\n",
       "        vertical-align: middle;\n",
       "    }\n",
       "\n",
       "    .dataframe tbody tr th {\n",
       "        vertical-align: top;\n",
       "    }\n",
       "\n",
       "    .dataframe thead th {\n",
       "        text-align: right;\n",
       "    }\n",
       "</style>\n",
       "<table border=\"1\" class=\"dataframe\">\n",
       "  <thead>\n",
       "    <tr style=\"text-align: right;\">\n",
       "      <th></th>\n",
       "      <th>Review</th>\n",
       "      <th>Rating</th>\n",
       "    </tr>\n",
       "  </thead>\n",
       "  <tbody>\n",
       "    <tr>\n",
       "      <th>0</th>\n",
       "      <td>nice hotel expensive parking got good deal sta...</td>\n",
       "      <td>4</td>\n",
       "    </tr>\n",
       "    <tr>\n",
       "      <th>1</th>\n",
       "      <td>ok nothing special charge diamond member hilto...</td>\n",
       "      <td>2</td>\n",
       "    </tr>\n",
       "    <tr>\n",
       "      <th>2</th>\n",
       "      <td>nice rooms not 4* experience hotel monaco seat...</td>\n",
       "      <td>3</td>\n",
       "    </tr>\n",
       "    <tr>\n",
       "      <th>3</th>\n",
       "      <td>unique, great stay, wonderful time hotel monac...</td>\n",
       "      <td>5</td>\n",
       "    </tr>\n",
       "    <tr>\n",
       "      <th>4</th>\n",
       "      <td>great stay great stay, went seahawk game aweso...</td>\n",
       "      <td>5</td>\n",
       "    </tr>\n",
       "  </tbody>\n",
       "</table>\n",
       "</div>"
      ],
      "text/plain": [
       "                                              Review  Rating\n",
       "0  nice hotel expensive parking got good deal sta...       4\n",
       "1  ok nothing special charge diamond member hilto...       2\n",
       "2  nice rooms not 4* experience hotel monaco seat...       3\n",
       "3  unique, great stay, wonderful time hotel monac...       5\n",
       "4  great stay great stay, went seahawk game aweso...       5"
      ]
     },
     "execution_count": 2,
     "metadata": {},
     "output_type": "execute_result"
    }
   ],
   "source": [
    "# Loading csv file\n",
    "\n",
    "data = pd.read_csv(\"./datasets/tripadvisor_hotel_reviews.csv\")\n",
    "data.head()"
   ]
  },
  {
   "cell_type": "code",
   "execution_count": 3,
   "id": "ae576041",
   "metadata": {},
   "outputs": [
    {
     "name": "stdout",
     "output_type": "stream",
     "text": [
      "<class 'pandas.core.frame.DataFrame'>\n",
      "RangeIndex: 20491 entries, 0 to 20490\n",
      "Data columns (total 2 columns):\n",
      " #   Column  Non-Null Count  Dtype \n",
      "---  ------  --------------  ----- \n",
      " 0   Review  20491 non-null  object\n",
      " 1   Rating  20491 non-null  int64 \n",
      "dtypes: int64(1), object(1)\n",
      "memory usage: 320.3+ KB\n"
     ]
    }
   ],
   "source": [
    "data.info()"
   ]
  },
  {
   "cell_type": "code",
   "execution_count": 4,
   "id": "3ff1e95a",
   "metadata": {},
   "outputs": [
    {
     "data": {
      "text/plain": [
       "0    nice hotel expensive parking got good deal sta...\n",
       "1    ok nothing special charge diamond member hilto...\n",
       "2    nice rooms not 4* experience hotel monaco seat...\n",
       "3    unique, great stay, wonderful time hotel monac...\n",
       "4    great stay great stay, went seahawk game aweso...\n",
       "Name: lowercase_review, dtype: object"
      ]
     },
     "execution_count": 4,
     "metadata": {},
     "output_type": "execute_result"
    }
   ],
   "source": [
    "# Lowercase\n",
    "\n",
    "data['lowercase_review'] = data['Review'].str.lower()\n",
    "data['lowercase_review'][:5]"
   ]
  },
  {
   "cell_type": "code",
   "execution_count": 5,
   "id": "9810ef0c",
   "metadata": {},
   "outputs": [
    {
     "data": {
      "text/plain": [
       "['a', 'about', 'above', 'after', 'again', 'against', 'ain', 'all', 'am', 'an']"
      ]
     },
     "execution_count": 5,
     "metadata": {},
     "output_type": "execute_result"
    }
   ],
   "source": [
    "# English Stopwords\n",
    "\n",
    "en_stopwords = stopwords.words('english')\n",
    "en_stopwords.remove('not')\n",
    "en_stopwords[:10]"
   ]
  },
  {
   "cell_type": "code",
   "execution_count": 6,
   "id": "57396fc1",
   "metadata": {},
   "outputs": [
    {
     "data": {
      "text/plain": [
       "'nice hotel expensive parking got good deal stay hotel anniversary, arrived late evening took advice previous reviews valet parking, check quick easy, little disappointed non-existent view room room clean nice size, bed comfortable woke stiff neck high pillows, not soundproof like heard music room night morning loud bangs doors opening closing hear people talking hallway, maybe noisy neighbors, aveda bath products nice, not goldfish stay nice touch taken advantage staying longer, location great walking distance shopping, overall nice experience pay 40 parking night,'"
      ]
     },
     "execution_count": 6,
     "metadata": {},
     "output_type": "execute_result"
    }
   ],
   "source": [
    "# Stopword Removal\n",
    "\n",
    "data['no_stopword_reivew'] = data['lowercase_review'].apply(lambda x: ' '.join([word for word in x.split() if word not in (en_stopwords)]))\n",
    "data['no_stopword_reivew'][0]"
   ]
  },
  {
   "cell_type": "code",
   "execution_count": 7,
   "id": "c48632c4",
   "metadata": {},
   "outputs": [
    {
     "data": {
      "text/html": [
       "<div>\n",
       "<style scoped>\n",
       "    .dataframe tbody tr th:only-of-type {\n",
       "        vertical-align: middle;\n",
       "    }\n",
       "\n",
       "    .dataframe tbody tr th {\n",
       "        vertical-align: top;\n",
       "    }\n",
       "\n",
       "    .dataframe thead th {\n",
       "        text-align: right;\n",
       "    }\n",
       "</style>\n",
       "<table border=\"1\" class=\"dataframe\">\n",
       "  <thead>\n",
       "    <tr style=\"text-align: right;\">\n",
       "      <th></th>\n",
       "      <th>Review</th>\n",
       "      <th>Rating</th>\n",
       "      <th>lowercase_review</th>\n",
       "      <th>no_stopword_reivew</th>\n",
       "      <th>no_punct_review</th>\n",
       "    </tr>\n",
       "  </thead>\n",
       "  <tbody>\n",
       "    <tr>\n",
       "      <th>0</th>\n",
       "      <td>nice hotel expensive parking got good deal sta...</td>\n",
       "      <td>4</td>\n",
       "      <td>nice hotel expensive parking got good deal sta...</td>\n",
       "      <td>nice hotel expensive parking got good deal sta...</td>\n",
       "      <td>nice hotel expensive parking got good deal sta...</td>\n",
       "    </tr>\n",
       "    <tr>\n",
       "      <th>1</th>\n",
       "      <td>ok nothing special charge diamond member hilto...</td>\n",
       "      <td>2</td>\n",
       "      <td>ok nothing special charge diamond member hilto...</td>\n",
       "      <td>ok nothing special charge diamond member hilto...</td>\n",
       "      <td>ok nothing special charge diamond member hilto...</td>\n",
       "    </tr>\n",
       "    <tr>\n",
       "      <th>2</th>\n",
       "      <td>nice rooms not 4* experience hotel monaco seat...</td>\n",
       "      <td>3</td>\n",
       "      <td>nice rooms not 4* experience hotel monaco seat...</td>\n",
       "      <td>nice rooms not 4* experience hotel monaco seat...</td>\n",
       "      <td>nice rooms not 4star experience hotel monaco s...</td>\n",
       "    </tr>\n",
       "    <tr>\n",
       "      <th>3</th>\n",
       "      <td>unique, great stay, wonderful time hotel monac...</td>\n",
       "      <td>5</td>\n",
       "      <td>unique, great stay, wonderful time hotel monac...</td>\n",
       "      <td>unique, great stay, wonderful time hotel monac...</td>\n",
       "      <td>unique great stay wonderful time hotel monaco ...</td>\n",
       "    </tr>\n",
       "    <tr>\n",
       "      <th>4</th>\n",
       "      <td>great stay great stay, went seahawk game aweso...</td>\n",
       "      <td>5</td>\n",
       "      <td>great stay great stay, went seahawk game aweso...</td>\n",
       "      <td>great stay great stay, went seahawk game aweso...</td>\n",
       "      <td>great stay great stay went seahawk game awesom...</td>\n",
       "    </tr>\n",
       "  </tbody>\n",
       "</table>\n",
       "</div>"
      ],
      "text/plain": [
       "                                              Review  Rating  \\\n",
       "0  nice hotel expensive parking got good deal sta...       4   \n",
       "1  ok nothing special charge diamond member hilto...       2   \n",
       "2  nice rooms not 4* experience hotel monaco seat...       3   \n",
       "3  unique, great stay, wonderful time hotel monac...       5   \n",
       "4  great stay great stay, went seahawk game aweso...       5   \n",
       "\n",
       "                                    lowercase_review  \\\n",
       "0  nice hotel expensive parking got good deal sta...   \n",
       "1  ok nothing special charge diamond member hilto...   \n",
       "2  nice rooms not 4* experience hotel monaco seat...   \n",
       "3  unique, great stay, wonderful time hotel monac...   \n",
       "4  great stay great stay, went seahawk game aweso...   \n",
       "\n",
       "                                  no_stopword_reivew  \\\n",
       "0  nice hotel expensive parking got good deal sta...   \n",
       "1  ok nothing special charge diamond member hilto...   \n",
       "2  nice rooms not 4* experience hotel monaco seat...   \n",
       "3  unique, great stay, wonderful time hotel monac...   \n",
       "4  great stay great stay, went seahawk game aweso...   \n",
       "\n",
       "                                     no_punct_review  \n",
       "0  nice hotel expensive parking got good deal sta...  \n",
       "1  ok nothing special charge diamond member hilto...  \n",
       "2  nice rooms not 4star experience hotel monaco s...  \n",
       "3  unique great stay wonderful time hotel monaco ...  \n",
       "4  great stay great stay went seahawk game awesom...  "
      ]
     },
     "execution_count": 7,
     "metadata": {},
     "output_type": "execute_result"
    }
   ],
   "source": [
    "# Punctuation Removal\n",
    "\n",
    "data['no_punct_review'] = data.apply(lambda x: re.sub(r\"[*]\", \"star\", x['no_stopword_reivew']), axis=1)\n",
    "data['no_punct_review'] = data.apply(lambda x: re.sub(r\"([^\\w\\s])\", \"\", x['no_punct_review']), axis=1)\n",
    "data.head()"
   ]
  },
  {
   "cell_type": "code",
   "execution_count": 8,
   "id": "34e29792",
   "metadata": {},
   "outputs": [
    {
     "data": {
      "text/plain": [
       "['nice',\n",
       " 'hotel',\n",
       " 'expensive',\n",
       " 'parking',\n",
       " 'got',\n",
       " 'good',\n",
       " 'deal',\n",
       " 'stay',\n",
       " 'hotel',\n",
       " 'anniversary',\n",
       " 'arrived',\n",
       " 'late',\n",
       " 'evening',\n",
       " 'took',\n",
       " 'advice',\n",
       " 'previous',\n",
       " 'reviews',\n",
       " 'valet',\n",
       " 'parking',\n",
       " 'check',\n",
       " 'quick',\n",
       " 'easy',\n",
       " 'little',\n",
       " 'disappointed',\n",
       " 'nonexistent',\n",
       " 'view',\n",
       " 'room',\n",
       " 'room',\n",
       " 'clean',\n",
       " 'nice',\n",
       " 'size',\n",
       " 'bed',\n",
       " 'comfortable',\n",
       " 'woke',\n",
       " 'stiff',\n",
       " 'neck',\n",
       " 'high',\n",
       " 'pillows',\n",
       " 'not',\n",
       " 'soundproof',\n",
       " 'like',\n",
       " 'heard',\n",
       " 'music',\n",
       " 'room',\n",
       " 'night',\n",
       " 'morning',\n",
       " 'loud',\n",
       " 'bangs',\n",
       " 'doors',\n",
       " 'opening',\n",
       " 'closing',\n",
       " 'hear',\n",
       " 'people',\n",
       " 'talking',\n",
       " 'hallway',\n",
       " 'maybe',\n",
       " 'noisy',\n",
       " 'neighbors',\n",
       " 'aveda',\n",
       " 'bath',\n",
       " 'products',\n",
       " 'nice',\n",
       " 'not',\n",
       " 'goldfish',\n",
       " 'stay',\n",
       " 'nice',\n",
       " 'touch',\n",
       " 'taken',\n",
       " 'advantage',\n",
       " 'staying',\n",
       " 'longer',\n",
       " 'location',\n",
       " 'great',\n",
       " 'walking',\n",
       " 'distance',\n",
       " 'shopping',\n",
       " 'overall',\n",
       " 'nice',\n",
       " 'experience',\n",
       " 'pay',\n",
       " '40',\n",
       " 'parking',\n",
       " 'night']"
      ]
     },
     "execution_count": 8,
     "metadata": {},
     "output_type": "execute_result"
    }
   ],
   "source": [
    "# Tokenize \n",
    "\n",
    "data['tokenized'] = data.apply(lambda x: word_tokenize(x['no_punct_review']), axis=1)\n",
    "data['tokenized'][0]"
   ]
  },
  {
   "cell_type": "code",
   "execution_count": 9,
   "id": "5a69f231",
   "metadata": {},
   "outputs": [
    {
     "data": {
      "text/plain": [
       "['nice',\n",
       " 'hotel',\n",
       " 'expens',\n",
       " 'park',\n",
       " 'got',\n",
       " 'good',\n",
       " 'deal',\n",
       " 'stay',\n",
       " 'hotel',\n",
       " 'anniversari',\n",
       " 'arriv',\n",
       " 'late',\n",
       " 'even',\n",
       " 'took',\n",
       " 'advic',\n",
       " 'previou',\n",
       " 'review',\n",
       " 'valet',\n",
       " 'park',\n",
       " 'check',\n",
       " 'quick',\n",
       " 'easi',\n",
       " 'littl',\n",
       " 'disappoint',\n",
       " 'nonexist',\n",
       " 'view',\n",
       " 'room',\n",
       " 'room',\n",
       " 'clean',\n",
       " 'nice',\n",
       " 'size',\n",
       " 'bed',\n",
       " 'comfort',\n",
       " 'woke',\n",
       " 'stiff',\n",
       " 'neck',\n",
       " 'high',\n",
       " 'pillow',\n",
       " 'not',\n",
       " 'soundproof',\n",
       " 'like',\n",
       " 'heard',\n",
       " 'music',\n",
       " 'room',\n",
       " 'night',\n",
       " 'morn',\n",
       " 'loud',\n",
       " 'bang',\n",
       " 'door',\n",
       " 'open',\n",
       " 'close',\n",
       " 'hear',\n",
       " 'peopl',\n",
       " 'talk',\n",
       " 'hallway',\n",
       " 'mayb',\n",
       " 'noisi',\n",
       " 'neighbor',\n",
       " 'aveda',\n",
       " 'bath',\n",
       " 'product',\n",
       " 'nice',\n",
       " 'not',\n",
       " 'goldfish',\n",
       " 'stay',\n",
       " 'nice',\n",
       " 'touch',\n",
       " 'taken',\n",
       " 'advantag',\n",
       " 'stay',\n",
       " 'longer',\n",
       " 'locat',\n",
       " 'great',\n",
       " 'walk',\n",
       " 'distanc',\n",
       " 'shop',\n",
       " 'overal',\n",
       " 'nice',\n",
       " 'experi',\n",
       " 'pay',\n",
       " '40',\n",
       " 'park',\n",
       " 'night']"
      ]
     },
     "execution_count": 9,
     "metadata": {},
     "output_type": "execute_result"
    }
   ],
   "source": [
    "# Stemming\n",
    "\n",
    "ps = PorterStemmer()\n",
    "data['stemmed'] = data['tokenized'].apply(lambda tokens: [ps.stem(token) for token in tokens])\n",
    "data['stemmed'][0]"
   ]
  },
  {
   "cell_type": "code",
   "execution_count": null,
   "id": "90b417bf",
   "metadata": {},
   "outputs": [
    {
     "data": {
      "text/plain": [
       "['nice',\n",
       " 'hotel',\n",
       " 'expensive',\n",
       " 'parking',\n",
       " 'got',\n",
       " 'good',\n",
       " 'deal',\n",
       " 'stay',\n",
       " 'hotel',\n",
       " 'anniversary',\n",
       " 'arrived',\n",
       " 'late',\n",
       " 'evening',\n",
       " 'took',\n",
       " 'advice',\n",
       " 'previous',\n",
       " 'review',\n",
       " 'valet',\n",
       " 'parking',\n",
       " 'check',\n",
       " 'quick',\n",
       " 'easy',\n",
       " 'little',\n",
       " 'disappointed',\n",
       " 'nonexistent',\n",
       " 'view',\n",
       " 'room',\n",
       " 'room',\n",
       " 'clean',\n",
       " 'nice',\n",
       " 'size',\n",
       " 'bed',\n",
       " 'comfortable',\n",
       " 'woke',\n",
       " 'stiff',\n",
       " 'neck',\n",
       " 'high',\n",
       " 'pillow',\n",
       " 'not',\n",
       " 'soundproof',\n",
       " 'like',\n",
       " 'heard',\n",
       " 'music',\n",
       " 'room',\n",
       " 'night',\n",
       " 'morning',\n",
       " 'loud',\n",
       " 'bang',\n",
       " 'door',\n",
       " 'opening',\n",
       " 'closing',\n",
       " 'hear',\n",
       " 'people',\n",
       " 'talking',\n",
       " 'hallway',\n",
       " 'maybe',\n",
       " 'noisy',\n",
       " 'neighbor',\n",
       " 'aveda',\n",
       " 'bath',\n",
       " 'product',\n",
       " 'nice',\n",
       " 'not',\n",
       " 'goldfish',\n",
       " 'stay',\n",
       " 'nice',\n",
       " 'touch',\n",
       " 'taken',\n",
       " 'advantage',\n",
       " 'staying',\n",
       " 'longer',\n",
       " 'location',\n",
       " 'great',\n",
       " 'walking',\n",
       " 'distance',\n",
       " 'shopping',\n",
       " 'overall',\n",
       " 'nice',\n",
       " 'experience',\n",
       " 'pay',\n",
       " '40',\n",
       " 'parking',\n",
       " 'night']"
      ]
     },
     "execution_count": 10,
     "metadata": {},
     "output_type": "execute_result"
    }
   ],
   "source": [
    "# Lemmatization\n",
    "\n",
    "lemmatizer = WordNetLemmatizer()\n",
    "data['lemmatized'] = data['tokenized'].apply(lambda tokens: [lemmatizer.lemmatize(token) for token in tokens])\n",
    "data['lemmatized'][0]"
   ]
  },
  {
   "cell_type": "code",
   "execution_count": null,
   "id": "5a9b7e88",
   "metadata": {},
   "outputs": [],
   "source": [
    "clean_tokens = sum(data['lemmatized'], [])"
   ]
  },
  {
   "cell_type": "code",
   "execution_count": null,
   "id": "de73f31a",
   "metadata": {},
   "outputs": [],
   "source": [
    "unigrams = (pd.Series(nltk.ngrams(clean_tokens, 1)).value_counts())\n",
    "print(unigrams)"
   ]
  },
  {
   "cell_type": "code",
   "execution_count": null,
   "id": "9dd0ae48",
   "metadata": {},
   "outputs": [],
   "source": [
    "bigrams = (pd.Series(nltk.ngrams(clean_tokens, 2)).value_counts())\n",
    "print(bigrams)"
   ]
  }
 ],
 "metadata": {
  "kernelspec": {
   "display_name": "ai",
   "language": "python",
   "name": "python3"
  },
  "language_info": {
   "codemirror_mode": {
    "name": "ipython",
    "version": 3
   },
   "file_extension": ".py",
   "mimetype": "text/x-python",
   "name": "python",
   "nbconvert_exporter": "python",
   "pygments_lexer": "ipython3",
   "version": "3.10.16"
  }
 },
 "nbformat": 4,
 "nbformat_minor": 5
}
