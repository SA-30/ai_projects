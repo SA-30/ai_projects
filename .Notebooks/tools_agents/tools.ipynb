{
 "cells": [
  {
   "cell_type": "markdown",
   "id": "98f7861c",
   "metadata": {},
   "source": [
    "### ***Stuffs***"
   ]
  },
  {
   "cell_type": "code",
   "execution_count": 22,
   "id": "3f5a1af5",
   "metadata": {},
   "outputs": [
    {
     "data": {
      "text/plain": [
       "True"
      ]
     },
     "execution_count": 22,
     "metadata": {},
     "output_type": "execute_result"
    }
   ],
   "source": [
    "from dotenv import load_dotenv\n",
    "import os\n",
    "\n",
    "# Load the .env file\n",
    "load_dotenv()"
   ]
  },
  {
   "cell_type": "code",
   "execution_count": null,
   "id": "6d0d1100",
   "metadata": {},
   "outputs": [],
   "source": [
    "api_key = os.getenv(\"GOOGLE_API_KEY\")"
   ]
  },
  {
   "cell_type": "code",
   "execution_count": 24,
   "id": "cff5d42d",
   "metadata": {},
   "outputs": [],
   "source": [
    "from langchain_core.prompts import PromptTemplate\n",
    "from langchain_core.output_parsers import StrOutputParser\n",
    "\n",
    "from langchain_google_genai import ChatGoogleGenerativeAI\n",
    "from langchain_community.utilities import WikipediaAPIWrapper\n",
    "from langchain_community.tools import WikipediaQueryRun"
   ]
  },
  {
   "cell_type": "code",
   "execution_count": 25,
   "id": "6753392b",
   "metadata": {},
   "outputs": [],
   "source": [
    "wikipedia_api = WikipediaAPIWrapper()"
   ]
  },
  {
   "cell_type": "code",
   "execution_count": 26,
   "id": "027eeeb8",
   "metadata": {},
   "outputs": [
    {
     "name": "stdout",
     "output_type": "stream",
     "text": [
      "Page: JavaScript\n",
      "Summary: JavaScript ( ), often abbreviated as JS, is a programming language and core technology of the World Wide Web, alongside HTML and CSS. Ninety-nine percent of websites use JavaScript on the client side for webpage behavior.\n",
      "Web browsers have a dedicated JavaScript engine that executes the client code. These engines are also utilized in some servers and a variety of apps. The most popular runtime system for non-browser usage is Node.js.\n",
      "JavaScript is a high-level, often just-in-time–compiled language that conforms to the ECMAScript standard. It has dynamic typing, prototype-based object-orientation, and first-class functions. It is multi-paradigm, supporting event-driven, functional, and imperative programming styles. It has application programming interfaces (APIs) for working with text, dates, regular expressions, standard data structures, and the Document Object Model (DOM).\n",
      "The ECMAScript standard does not include any input/output (I/O), such as networking, storage, or graphics facilities. In practice, the web browser or other runtime system provides JavaScript APIs for I/O.\n",
      "Although Java and JavaScript are similar in name and syntax, the two languages are distinct and differ greatly in design.\n",
      "\n",
      "Page: JSON\n",
      "Summary: JSON (JavaScript Object Notation, pronounced  or ) is an open standard file format and data interchange format that uses human-readable text to store and transmit data objects consisting of name–value pairs and arrays (or other serializable values). It is a commonly used data format with diverse  uses in electronic data interchange, including that of web applications with servers.\n",
      "JSON is a language-independent data format. It was derived from JavaScript, but many modern programming languages include code to generate and parse JSON-format data. JSON filenames use the extension .json.\n",
      "Douglas Crockford originally specified the JSON format in the early 2000s. He and Chip Morningstar sent the first JSON message in April 2001.\n",
      "\n",
      "Page: Percent-encoding\n",
      "Summary: URL encoding, officially known as percent-encoding, is a method to encode arbitrary data in a uniform resource identifier (URI) using only the US-ASCII characters legal within a URI. Although it is known as URL encoding, it is also used more generally within the main Uniform Resource Identifier (URI) set, which includes both Uniform Resource Locator (URL) and Uniform Resource Name (URN). Consequently, it is also used in the preparation of data of the application/x-www-form-urlencoded media type, as is often used in the submission of HTML form data in HTTP requests. Percent-encoding is not case-sensitive.\n"
     ]
    }
   ],
   "source": [
    "print(wikipedia_api.run(\"Javascript\"))"
   ]
  },
  {
   "cell_type": "code",
   "execution_count": 27,
   "id": "edceb7d4",
   "metadata": {},
   "outputs": [],
   "source": [
    "wikipedia_tool = WikipediaQueryRun(api_wrapper=wikipedia_api)"
   ]
  },
  {
   "cell_type": "code",
   "execution_count": 28,
   "id": "e272e4c7",
   "metadata": {},
   "outputs": [
    {
     "name": "stdout",
     "output_type": "stream",
     "text": [
      "wikipedia\n",
      "A wrapper around Wikipedia. Useful for when you need to answer general questions about people, places, companies, facts, historical events, or other subjects. Input should be a search query.\n",
      "{'query': {'description': 'query to look up on wikipedia', 'title': 'Query', 'type': 'string'}}\n"
     ]
    }
   ],
   "source": [
    "print(wikipedia_tool.name)\n",
    "print(wikipedia_tool.description)\n",
    "print(wikipedia_tool.args)"
   ]
  },
  {
   "cell_type": "code",
   "execution_count": 29,
   "id": "f78126d2",
   "metadata": {},
   "outputs": [
    {
     "name": "stderr",
     "output_type": "stream",
     "text": [
      "c:\\Users\\SS\\anaconda3\\envs\\ai\\Lib\\site-packages\\wikipedia\\wikipedia.py:389: GuessedAtParserWarning: No parser was explicitly specified, so I'm using the best available HTML parser for this system (\"html.parser\"). This usually isn't a problem, but if you run this code on another system, or in a different virtual environment, it may use a different parser and behave differently.\n",
      "\n",
      "The code that caused this warning is on line 389 of the file c:\\Users\\SS\\anaconda3\\envs\\ai\\Lib\\site-packages\\wikipedia\\wikipedia.py. To get rid of this warning, pass the additional argument 'features=\"html.parser\"' to the BeautifulSoup constructor.\n",
      "\n",
      "  lis = BeautifulSoup(html).find_all('li')\n"
     ]
    }
   ],
   "source": [
    "res = wikipedia_tool.invoke({'query':'Python'})"
   ]
  },
  {
   "cell_type": "code",
   "execution_count": 30,
   "id": "cfad2458",
   "metadata": {},
   "outputs": [
    {
     "name": "stdout",
     "output_type": "stream",
     "text": [
      "Page: Python (programming language)\n",
      "Summary: Python is a high-level, general-purpose programming language. Its design philosophy emphasizes code readability with the use of significant indentation.\n",
      "Python is dynamically type-checked and garbage-collected. It supports multiple programming paradigms, including structured (particularly procedural), object-oriented and functional programming. It is often described as a \"batteries included\" language due to its comprehensive standard library.\n",
      "Guido van Rossum began working on Python in the late 1980s as a successor to the ABC programming language, and he first released it in 1991 as Python 0.9.0. Python 2.0 was released in 2000. Python 3.0, released in 2008, was a major revision not completely backward-compatible with earlier versions. Python 2.7.18, released in 2020, was the last release of Python 2.\n",
      "Python consistently ranks as one of the most popular programming languages, and it has gained widespread use in the machine learning community.\n",
      "\n",
      "Page: Monty Python\n",
      "Summary: Monty Python, also known as the Pythons, were a British comedy troupe formed in 1969 consisting of Graham Chapman, John Cleese, Terry Gilliam, Eric Idle, Terry Jones and Michael Palin. The group came to prominence for the sketch comedy series Monty Python's Flying Circus, which aired on the BBC from 1969 to 1974. Their work then developed into a larger collection that included live shows, films, albums, books, and musicals; their influence on comedy has been compared to the Beatles' influence on music. Their sketch show has been called \"an important moment in the evolution of television comedy\".\n",
      "Monty Python's Flying Circus was loosely structured as a sketch show, but its innovative stream-of-consciousness approach and Gilliam's animation skills pushed the boundaries of what was acceptable in style and content. A self-contained comedy unit, the Pythons had creative control that allowed them to experiment with form and content, discarding rules of television comedy. They followed their television work by making  the films Monty Python and the Holy Grail (1975), Life of Brian (1979), and The Meaning of Life (1983). Their influence on British comedy has been apparent for years, while it has coloured the work of the early editions of Saturday Night Live through to absurdist trends in television comedy.\n",
      "At the 41st British Academy Film Awards in 1988, Monty Python received the BAFTA Award for Outstanding British Contribution to Cinema. In 1998, they were awarded the AFI Star Award by the American Film Institute. Holy Grail and Life of Brian are frequently ranked on lists of the greatest comedy films. A 2005 poll asked more than 300 comedians, comedy writers, producers, and directors to name the greatest comedians of all time, and half of Monty Python's members made the top 50.\n"
     ]
    }
   ],
   "source": [
    "print(res)"
   ]
  },
  {
   "cell_type": "markdown",
   "id": "091ddff3",
   "metadata": {},
   "source": [
    "### ***chain = prompt_template | chat | StrOutputParser() | wikipedia_tool***"
   ]
  },
  {
   "cell_type": "code",
   "execution_count": 31,
   "id": "4abafc44",
   "metadata": {},
   "outputs": [],
   "source": [
    "TEMPLATE = '''\n",
    "Turn the following user input into a Wikipedia search query. Don't answer the question:\n",
    "\n",
    "{input}\n",
    "'''\n",
    "\n",
    "prompt_template = PromptTemplate.from_template(template=TEMPLATE)"
   ]
  },
  {
   "cell_type": "code",
   "execution_count": 32,
   "id": "587cc017",
   "metadata": {},
   "outputs": [],
   "source": [
    "chat = ChatGoogleGenerativeAI(\n",
    "    model=\"gemini-2.0-flash\",\n",
    "    temperature=0,\n",
    ")"
   ]
  },
  {
   "cell_type": "code",
   "execution_count": 33,
   "id": "90eda9c0",
   "metadata": {},
   "outputs": [],
   "source": [
    "chain = prompt_template | chat | StrOutputParser() | wikipedia_tool"
   ]
  },
  {
   "cell_type": "code",
   "execution_count": 34,
   "id": "5c3f84e9",
   "metadata": {},
   "outputs": [
    {
     "data": {
      "text/plain": [
       "'Page: Python (programming language)\\nSummary: Python is a high-level, general-purpose programming language. Its design philosophy emphasizes code readability with the use of significant indentation.\\nPython is dynamically type-checked and garbage-collected. It supports multiple programming paradigms, including structured (particularly procedural), object-oriented and functional programming. It is often described as a \"batteries included\" language due to its comprehensive standard library.\\nGuido van Rossum began working on Python in the late 1980s as a successor to the ABC programming language, and he first released it in 1991 as Python 0.9.0. Python 2.0 was released in 2000. Python 3.0, released in 2008, was a major revision not completely backward-compatible with earlier versions. Python 2.7.18, released in 2020, was the last release of Python 2.\\nPython consistently ranks as one of the most popular programming languages, and it has gained widespread use in the machine learning community.\\n\\nPage: History of Python\\nSummary: The programming language Python was conceived in the late 1980s, and its implementation was started in December 1989 by Guido van Rossum at CWI in the Netherlands as a successor to ABC capable of exception handling and interfacing with the Amoeba operating system. Van Rossum was Python\\'s principal author and had a central role in deciding the direction of Python (as reflected in the title given to him by the Python community, Benevolent Dictator for Life (BDFL)) until stepping down as leader on July 12, 2018. Python was named after the BBC TV show Monty Python\\'s Flying Circus.\\nPython 2.0 was released on October 16, 2000, with many major new features, such as list comprehensions, cycle-detecting garbage collector, reference counting, memory management and support for Unicode, along with a change to the development process itself, with a shift to a more transparent and community-backed process.\\nPython 3.0, a major, backwards-incompatible release, was released on December 3, 2008 after a long period of testing. Many of its major features were also backported to the backwards-compatible Python versions 2.6 and 2.7 until support for Python 2 finally ceased at the beginning of 2020. Releases of Python 3 include the 2to3 utility, which automates the translation of Python 2 code to Python 3. \\n\\n\\n\\nPage: Guido van Rossum\\nSummary: Guido van Rossum (born 31 January 1956) is a Dutch programmer. He is the creator of the Python programming language, for which he was the \"benevolent dictator for life\" (BDFL) until he stepped down from the position on 12 July 2018. He remained a member of the Python Steering Council through 2019, and withdrew from nominations for the 2020 election.\\n\\n'"
      ]
     },
     "execution_count": 34,
     "metadata": {},
     "output_type": "execute_result"
    }
   ],
   "source": [
    "chain.invoke({'input': 'Who is the creator of the Python programming language?'})"
   ]
  },
  {
   "cell_type": "markdown",
   "id": "ae4f19d6",
   "metadata": {},
   "source": [
    "### ***Creating a Retriever and Custom Tool***"
   ]
  },
  {
   "cell_type": "code",
   "execution_count": 35,
   "id": "664b5e8b",
   "metadata": {},
   "outputs": [],
   "source": [
    "from langchain_community.vectorstores import Chroma\n",
    "from langchain_google_genai import GoogleGenerativeAIEmbeddings\n",
    "\n",
    "from langchain_core.tools import tool\n",
    "from langchain_core.tools import create_retriever_tool\n",
    "\n",
    "from platform import python_version"
   ]
  },
  {
   "cell_type": "code",
   "execution_count": 36,
   "id": "238d74a4",
   "metadata": {},
   "outputs": [],
   "source": [
    "embeddings = GoogleGenerativeAIEmbeddings(\n",
    "    model=\"models/embedding-001\",\n",
    ")"
   ]
  },
  {
   "cell_type": "code",
   "execution_count": 37,
   "id": "c14244e4",
   "metadata": {},
   "outputs": [
    {
     "name": "stderr",
     "output_type": "stream",
     "text": [
      "Failed to send telemetry event ClientStartEvent: capture() takes 1 positional argument but 3 were given\n",
      "Failed to send telemetry event ClientCreateCollectionEvent: capture() takes 1 positional argument but 3 were given\n"
     ]
    }
   ],
   "source": [
    "vectorStore = Chroma(persist_directory=\"./test\",\n",
    "                     embedding_function=embeddings)\n",
    "\n",
    "retriever = vectorStore.as_retriever(search_type='mmr', search_kwargs={'k':3, 'lambda_mult': 0.7})\n",
    "\n",
    "retriever_tool = create_retriever_tool(retriever=retriever,\n",
    "                                       name= \"Introduction to Data and Data Science Course\",\n",
    "                                       description = '''For any question regarding the Introduction to Data and Data Science Course,\n",
    "                                        you must use this tool''')"
   ]
  },
  {
   "cell_type": "code",
   "execution_count": 38,
   "id": "f06fe050",
   "metadata": {},
   "outputs": [
    {
     "data": {
      "text/plain": [
       "{'query': {'description': 'query to look up in retriever',\n",
       "  'title': 'Query',\n",
       "  'type': 'string'}}"
      ]
     },
     "execution_count": 38,
     "metadata": {},
     "output_type": "execute_result"
    }
   ],
   "source": [
    "retriever_tool.args"
   ]
  },
  {
   "cell_type": "code",
   "execution_count": 39,
   "id": "29f57dbe",
   "metadata": {},
   "outputs": [
    {
     "name": "stdout",
     "output_type": "stream",
     "text": [
      "rning a programming language. More importantly, it will be sufficient for your need to create quick and accurate analyses. However, if your theoretical preparation is strong enough, you will find yourself restricted by software. Knowing a programming language such as R and Python, gives you the freedom to create specific, ad-hoc tools for each project you are working on. Great!\n",
      "\n",
      "When preparing your BI analysis, for instance, you will surely employ it. Okay. When it comes to data science, mentioning\n",
      "\n",
      "nal data science. What about big data? Apart from R and Python, people working in this area are often proficient in other languages like Java or Scala. These two have not been developed specifically for doing statistical analyses, however they turn out to be very useful when combining data from multiple sources. All right! Let’s finish off with machine learning. When it comes to machine learning, we often deal with big data. Thus, we need a lot of computational power, and we can expect people to\n"
     ]
    }
   ],
   "source": [
    "print(retriever_tool.invoke(\"Could you list the programming languages a data scientist should know?\"))"
   ]
  },
  {
   "cell_type": "markdown",
   "id": "bb565c3f",
   "metadata": {},
   "source": [
    "### ***Custom Tool***"
   ]
  },
  {
   "cell_type": "code",
   "execution_count": 51,
   "id": "f274c983",
   "metadata": {},
   "outputs": [],
   "source": [
    "@tool\n",
    "def get_python_version() -> str:\n",
    "    '''Useful for questions regarding the version of Python currently used.'''\n",
    "    return python_version()"
   ]
  },
  {
   "cell_type": "code",
   "execution_count": 52,
   "id": "358de219",
   "metadata": {},
   "outputs": [
    {
     "data": {
      "text/plain": [
       "StructuredTool(name='get_python_version', description='Useful for questions regarding the version of Python currently used.', args_schema=<class 'langchain_core.utils.pydantic.get_python_version'>, func=<function get_python_version at 0x000001E24F4D9C60>)"
      ]
     },
     "execution_count": 52,
     "metadata": {},
     "output_type": "execute_result"
    }
   ],
   "source": [
    "get_python_version"
   ]
  },
  {
   "cell_type": "code",
   "execution_count": 53,
   "id": "5bb3eba6",
   "metadata": {},
   "outputs": [
    {
     "data": {
      "text/plain": [
       "'3.13.5'"
      ]
     },
     "execution_count": 53,
     "metadata": {},
     "output_type": "execute_result"
    }
   ],
   "source": [
    "get_python_version.invoke({})"
   ]
  },
  {
   "cell_type": "markdown",
   "id": "b04147d9",
   "metadata": {},
   "source": [
    "### ***Adding pdf to vector store***"
   ]
  },
  {
   "cell_type": "code",
   "execution_count": 40,
   "id": "6d6eedda",
   "metadata": {},
   "outputs": [],
   "source": [
    "from langchain_community.document_loaders import PyPDFLoader\n",
    "import copy"
   ]
  },
  {
   "cell_type": "code",
   "execution_count": 41,
   "id": "22cdae09",
   "metadata": {},
   "outputs": [],
   "source": [
    "loader_pdf = PyPDFLoader(\"Introduction_to_Data_and_Data_Science.pdf\")"
   ]
  },
  {
   "cell_type": "code",
   "execution_count": 42,
   "id": "ea1f8bf6",
   "metadata": {},
   "outputs": [],
   "source": [
    "data = loader_pdf.load()"
   ]
  },
  {
   "cell_type": "code",
   "execution_count": 43,
   "id": "08d5a771",
   "metadata": {},
   "outputs": [],
   "source": [
    "pages_pdf_cut = copy.deepcopy(data)"
   ]
  },
  {
   "cell_type": "code",
   "execution_count": 44,
   "id": "9e7bd474",
   "metadata": {},
   "outputs": [],
   "source": [
    "for i in pages_pdf_cut:\n",
    "    i.page_content = ' '.join(i.page_content.split())"
   ]
  },
  {
   "cell_type": "code",
   "execution_count": 45,
   "id": "c7677e46",
   "metadata": {},
   "outputs": [],
   "source": [
    "from langchain_text_splitters.character import CharacterTextSplitter"
   ]
  },
  {
   "cell_type": "code",
   "execution_count": 46,
   "id": "ae6b9215",
   "metadata": {},
   "outputs": [],
   "source": [
    "char_splitter = CharacterTextSplitter(separator=\"\", chunk_size=500, chunk_overlap=50)"
   ]
  },
  {
   "cell_type": "code",
   "execution_count": 47,
   "id": "8c23d186",
   "metadata": {},
   "outputs": [],
   "source": [
    "pages_char_split = char_splitter.split_documents(pages_pdf_cut)"
   ]
  },
  {
   "cell_type": "code",
   "execution_count": 48,
   "id": "b5bb0b1c",
   "metadata": {},
   "outputs": [
    {
     "data": {
      "text/plain": [
       "21"
      ]
     },
     "execution_count": 48,
     "metadata": {},
     "output_type": "execute_result"
    }
   ],
   "source": [
    "len(pages_char_split)"
   ]
  },
  {
   "cell_type": "code",
   "execution_count": 49,
   "id": "80c9053a",
   "metadata": {},
   "outputs": [
    {
     "name": "stdout",
     "output_type": "stream",
     "text": [
      "[0.02296156994998455, -0.013071710243821144, -0.04320036992430687, 0.03289970010519028, 0.06785649061203003, 0.005432088393718004, 8.605547191109508e-05, -0.014738018624484539, 0.00533744040876627, 0.05038222670555115, -0.0059264348819851875, 0.047278545796871185, -0.02962195686995983, 0.020221011713147163, -0.008495617657899857, -0.06722406297922134, 0.0013323277235031128, 0.027411961928009987, 0.020517367869615555, -0.04017411544919014, -0.001996435923501849, -0.010084262117743492, 0.00042604401824064553, -0.017614828422665596, 0.04454001039266586, -0.014855248853564262, 0.010033410973846912, -0.02636623941361904, 0.020376352593302727, 0.01428438350558281, -0.041970521211624146, 0.040634531527757645, -0.035447366535663605, 0.026638366281986237, 0.0031077375169843435, -0.02660328522324562, 0.0036227754317224026, 0.0403808057308197, -0.004819600842893124, 0.04152556136250496, 0.021272145211696625, -0.051691386848688126, -0.03196340799331665, 0.03862547129392624, -0.04072563350200653, -0.031028416007757187, 0.008881495334208012, 0.01240172702819109, -0.0027870223857462406, -0.06429711729288101, 0.03135667368769646, 0.017062410712242126, 0.055278532207012177, -0.03412366658449173, 0.004146831575781107, -0.054472438991069794, 0.03637828305363655, -0.026159700006246567, 0.04182085767388344, -0.001592937158420682, 0.0008635908016003668, 0.028471073135733604, -0.015954522415995598, 0.010297488421201706, 0.009656321257352829, -0.04943814128637314, -0.02919583022594452, 0.0015447570476680994, 0.04539663344621658, 0.025401856750249863, -0.013936426490545273, -0.016319571062922478, 0.06397519260644913, -0.018709246069192886, -0.00982717890292406, -0.11634454131126404, -0.00903217401355505, 0.0589371919631958, 0.009593936614692211, 0.03168192878365517, 0.019908249378204346, -0.05994338169693947, -0.09623323380947113, -0.013869881629943848, -0.04102689027786255, 0.03605852276086807, -0.03319871053099632, -0.0062516056932508945, -0.009887403808534145, 0.03130236640572548, -0.03600562736392021, -0.025527339428663254, 0.015951132401823997, -0.04919833317399025, -0.00414604926481843, 0.06565850973129272, -0.02363954298198223, -0.04138649255037308, 0.029066435992717743, -0.0565236397087574, 0.018001200631260872, -0.006898526102304459, -0.03586287051439285, 0.0011553479125723243, 0.02691277489066124, -0.01213852595537901, -0.023919960483908653, 0.038180816918611526, 0.047774165868759155, 0.043250784277915955, -0.04162973165512085, 0.012924231588840485, -0.00859879981726408, -0.019669316709041595, 0.03934037685394287, -0.0031297621317207813, 0.003983339760452509, 0.06819725036621094, 0.0016776819247752428, 0.03596432879567146, 0.04746851325035095, 0.0001777778088580817, 0.05184948444366455, -0.014031977392733097, 0.024520892649888992, 0.021919572725892067, -0.0046918196603655815, 0.05010007321834564, 0.04337306693196297, 0.029787736013531685, -0.010613919235765934, -0.07355765998363495, -0.03959404677152634, 0.027624966576695442, 0.04436531290411949, 0.07010433822870255, 0.025487475097179413, -0.022530728951096535, 0.06904307752847672, 0.016048813238739967, 0.009505358524620533, 0.01032576896250248, -0.02243080921471119, 0.039603788405656815, -0.04018992930650711, 0.06072069704532623, -0.0871146023273468, -0.015023685060441494, 0.07704047113656998, -0.006494167726486921, -0.061604682356119156, 0.022659247741103172, -0.04359787330031395, -0.028029700741171837, 0.03241889551281929, 0.00787289533764124, -0.007909826003015041, 0.007345294114202261, 0.05041581764817238, 0.03721741586923599, 0.01900562271475792, 0.0010186596773564816, 0.007393184583634138, 0.04985807090997696, -0.022332418709993362, -0.011759676039218903, -0.009974530898034573, -0.003941794391721487, -0.0037541775964200497, 0.01164053101092577, -0.012385602109134197, 0.03384995460510254, -0.055538732558488846, -0.028086841106414795, -0.029517875984311104, -0.041926559060811996, 0.04024403169751167, -0.004339918028563261, -0.025807324796915054, 0.0063501023687422276, 0.005418465472757816, -0.021943459287285805, 0.0115322545170784, 0.026001648977398872, 0.02964264154434204, -0.05723125860095024, 0.07257992774248123, -0.005033545196056366, -0.024671602994203568, 0.01750430278480053, 0.0022655243519693613, -0.009654323570430279, -0.02875058725476265, -0.0058817327953875065, -0.005234085954725742, 0.06604556739330292, 0.05719800293445587, 0.036332014948129654, -0.018368849530816078, -0.06710157543420792, -0.007071394938975573, 0.07374006509780884, -0.00880308635532856, -0.002209062920883298, 0.030541948974132538, 0.023306893184781075, 0.05888717994093895, -0.024044696241617203, -0.042604561895132065, 0.03532898426055908, -0.06441286206245422, 0.05110438913106918, -0.005608382634818554, -0.005815323442220688, 0.0383208729326725, -0.03227987140417099, 0.012799540534615517, 0.044545624405145645, 0.021593166515231133, -0.0315089114010334, -0.020672880113124847, -0.0046225800178945065, -0.06864117085933685, 0.037873685359954834, 0.03813529759645462, 0.022090159356594086, -0.01755824126303196, -0.01544036902487278, -0.04580165445804596, -0.048631250858306885, -0.016037164255976677, 0.09161478281021118, 0.012266086414456367, 0.021638352423906326, 0.06988544017076492, -0.0015904841711744666, 0.04341285675764084, 0.022767631337046623, 0.051264774054288864, 0.037866391241550446, -0.038229357451200485, 0.01601414941251278, 0.05317464470863342, 0.06502136588096619, -0.03645259514451027, -0.026686938479542732, -0.01950545236468315, 0.05880555883049965, -0.00484851049259305, 0.07249576598405838, 0.013921988196671009, 0.00864615198224783, -0.017947595566511154, -0.022027045488357544, -0.09290305525064468, 0.029789498075842857, 0.003554730676114559, -0.0139701459556818, -0.03708220645785332, 0.015025799162685871, 0.03857598453760147, 0.007875087670981884, 0.01361282728612423, 0.022283874452114105, 0.005762852728366852, -0.03640054166316986, 0.007324766833335161, -0.032050374895334244, 0.01301718782633543, 0.007708367425948381, -0.01116873137652874, -0.0699957013130188, 0.03513998165726662, 0.0014134447555989027, 0.033459171652793884, 0.03521648049354553, 0.03244708478450775, 0.060321144759655, 0.009178373031318188, -0.031877271831035614, 0.03308304399251938, 0.015497399494051933, 0.027670487761497498, -0.02992354705929756, -0.019427120685577393, -0.0016833911649882793, -0.06201301887631416, -0.04615210369229317, 0.010214868001639843, -0.05073895677924156, -0.0195063017308712, -0.017248256132006645, 0.014770054258406162, -0.04733660817146301, -0.02412394993007183, 0.017567332834005356, -0.03269646689295769, 0.057127952575683594, 0.01565159298479557, -0.007100960239768028, -0.005614914931356907, -0.07956965267658234, 0.03938351571559906, -0.0663600042462349, 0.0012576228473335505, 0.007142836228013039, -0.02580324374139309, -0.026657525449991226, 0.040530797094106674, 0.045073799788951874, 0.009996526874601841, 0.009192167781293392, -0.01583372801542282, -0.040799107402563095, 0.0451427660882473, 0.062094561755657196, -0.004696501884609461, -0.014974125660955906, -0.022195905447006226, 0.029150109738111496, -0.028174523264169693, 0.0712355524301529, 0.01755787990987301, -0.01296484749764204, -0.028427530080080032, 0.0907672569155693, -0.013657723553478718, -0.033316440880298615, 0.002496445784345269, 0.02060498669743538, -0.031059574335813522, 0.021774455904960632, -0.0457293801009655, 0.003463601693511009, -0.01888825185596943, 0.006689813453704119, -0.10342086851596832, -0.034937553107738495, -0.0026033257599920034, 0.0023694855626672506, 0.030429137870669365, 0.031159663572907448, -0.015021617524325848, -0.015951886773109436, 0.010695764794945717, -0.008532140403985977, -0.04164183512330055, 0.026167985051870346, 0.0912572592496872, 0.03973199054598808, 0.028743239119648933, 0.08602703362703323, -0.024584801867604256, -0.024749476462602615, -0.009541822597384453, -0.017098108306527138, 0.03638054057955742, -0.016113348305225372, 0.032670509070158005, -0.06242989003658295, -0.00849687959998846, 0.013134061358869076, -0.030007243156433105, -0.017845606431365013, -0.0024756556376814842, -0.04966359958052635, -0.03498794883489609, 0.02289750799536705, -0.02351086214184761, 0.03644680231809616, 0.044317495077848434, -0.02569068782031536, 0.02649025246500969, -0.04193954914808273, 0.023770935833454132, 0.0042419880628585815, -0.02396041713654995, -0.028447456657886505, 0.034389790147542953, 0.0027790057938545942, -0.020444756373763084, 0.02731669507920742, 0.03964386507868767, 0.018473980948328972, 0.017157336696982384, -0.01253235712647438, 0.05504925549030304, 0.06320341676473618, -0.03036586008965969, 0.005457589868456125, -0.04389594867825508, 0.04140391945838928, 0.1527959108352661, -0.013817869126796722, 0.06158692017197609, -0.01881220005452633, -0.028225257992744446, -0.04560600221157074, -0.0008488780586048961, 0.0003453267563600093, -0.03179261088371277, -0.0856182798743248, -0.03568597510457039, -0.011390172876417637, -0.04470641165971756, -0.002109358785673976, 0.013169807381927967, -0.044352006167173386, -0.02246723137795925, -0.007757086772471666, -0.02777651511132717, -0.009542799554765224, 0.03595292568206787, -0.05513409525156021, -0.01228388026356697, -0.019902998581528664, 0.012455485761165619, -0.009650260210037231, -0.0063139996491372585, 0.035072240978479385, -0.05494702607393265, -0.038826312869787216, -0.014361448585987091, 0.00501101603731513, -0.05328986048698425, -0.023320920765399933, 0.030733689665794373, 0.010133471339941025, -0.040502503514289856, 0.002440647454932332, 0.04945119470357895, -0.01538673136383295, -0.005224226508289576, -0.01434098370373249, -0.01641552709043026, -0.05919260531663895, -0.013213741593062878, 0.026702996343374252, -0.0423537939786911, -0.04025278985500336, 0.018009793013334274, -0.021337971091270447, -0.015686888247728348, -0.024468913674354553, -0.01980905421078205, 0.003225330961868167, -2.5158846256090328e-05, -0.009530422277748585, 0.005624162033200264, -0.08799422532320023, 0.05891338363289833, -0.06720112264156342, -0.04376760497689247, -0.018566222861409187, -0.018108723685145378, -0.025436317548155785, -0.0020698353182524443, 0.04630213603377342, 0.000402269623009488, 0.03306576609611511, 0.01298254169523716, -0.015582938678562641, -0.02484554797410965, -0.04227785766124725, 0.01539626345038414, 0.00581245357170701, -0.014608480967581272, -0.0013211892219260335, 0.022549008950591087, 0.041851241141557693, 0.0329621359705925, -0.022111967206001282, -0.006492258980870247, -0.0041696373373270035, -0.01641209051012993, -0.04936305433511734, -0.06430456042289734, 0.05606331676244736, -0.081012062728405, 0.0029609394259750843, 0.02488558739423752, -0.015147415921092033, 0.011723143048584461, 0.03814156353473663, -0.06313209980726242, -0.02476200833916664, 0.014978908933699131, -0.03945194184780121, -0.019771013408899307, 0.002617626916617155, 0.03473221883177757, -0.017234917730093002, -0.03083043545484543, -0.04230113700032234, -0.01876193843781948, 0.0008102330029942095, -0.029659919440746307, 0.05227171629667282, 0.0752371996641159, -0.01627192460000515, -0.04439219832420349, -0.02710464410483837, 0.0035623249132186174, -0.01961432583630085, 0.06330025941133499, -0.043673887848854065, 0.01761467009782791, -0.003939217887818813, -0.0033840422984212637, -0.010013015940785408, -0.01914464496076107, 0.059002287685871124, -0.016215821728110313, 0.008817904628813267, 0.08314640820026398, -0.010611363686621189, 0.008722837083041668, 0.021309787407517433, -0.01772097684442997, -0.007503883447498083, 0.039555154740810394, -0.025581806898117065, -0.11417344957590103, -0.01311597228050232, 0.030714664608240128, -0.07854167371988297, 0.02394556999206543, -0.01417463831603527, -0.054083410650491714, -0.003921061754226685, -0.058808792382478714, 0.023672111332416534, -0.08224160224199295, -0.0003798002435360104, 0.010965295135974884, 0.016545245423913002, 0.032072730362415314, 0.011671429499983788, 0.008836655877530575, -0.060649897903203964, 0.03033590503036976, -0.026968758553266525, -0.0014517062809318304, 0.011419304646551609, -0.04060860723257065, 0.04835627228021622, -0.02106042206287384, -0.09710231423377991, 0.04215693846344948, 0.0008641681051813066, -0.01788562722504139, 0.03339294716715813, 0.03387868404388428, -0.026509283110499382, 0.003515090560540557, -0.007764143403619528, -0.030288459733128548, -0.017505835741758347, 0.019637346267700195, 0.012113505974411964, -0.02093312330543995, 0.02355302684009075, -0.03481025621294975, 0.032684896141290665, 0.05998605862259865, -0.0014040276873856783, -0.050441138446331024, -0.04584282264113426, 0.040052417665719986, -0.03780210763216019, 0.002028123242780566, 0.005046017002314329, 0.030882468447089195, -0.0003012970555573702, 0.04887137934565544, -0.038976579904556274, -0.03891868144273758, -0.012880329042673111, -0.014995185658335686, -0.031780313700437546, 0.04151438921689987, -0.02178090251982212, 0.015613029710948467, 0.04981663450598717, 0.02296152524650097, -0.004677330143749714, 0.030017951503396034, 0.07038770616054535, 0.05098415166139603, -0.006385650485754013, -0.06971519440412521, 0.021332919597625732, -0.04150799289345741, -4.5519976993091404e-05, -0.014195834286510944, 0.0035910916049033403, 0.027198540046811104, 0.028083359822630882, -0.031662262976169586, 0.046531036496162415, 0.0015255860053002834, -0.0069663734175264835, 0.029913045465946198, -0.02718224748969078, 0.06316196918487549, 0.05734296515583992, 0.020469268783926964, 0.031266774982213974, 0.03030139021575451, 0.04737979918718338, -0.01599729433655739, -0.004840492270886898, 0.01556140836328268, -0.022953243926167488, -0.04330030456185341, -0.06826459616422653, 0.09626568108797073, -0.010478571057319641, -0.03762008622288704, -0.05251211300492287, -0.005887527484446764, -0.0026712329126894474, -0.009054403752088547, -0.015427721664309502, 0.005199663806706667, 0.0028053910937160254, -0.038326848298311234, 0.016356976702809334, 0.09971068799495697, 0.022382354363799095, 0.058665890246629715, 0.06520123779773712, 0.005886932369321585, 0.019764365628361702, -0.06775495409965515, 0.011007321998476982, -0.010878153145313263, -0.008951692841947079, 0.005520541686564684, 0.026995008811354637, -0.06338594108819962, 0.02011808753013611, -0.022106187418103218, -0.039692092686891556, 0.0012960140593349934, 0.05368934944272041, 0.008874056860804558, -0.038741398602724075, -0.06946731358766556, 0.003964203875511885, -0.041949063539505005, 0.017345543950796127, -0.009134490042924881, -0.03981318324804306, 0.025985006242990494, -0.02219287119805813, 0.01294093020260334, -0.04305196925997734, 0.043336860835552216, 0.024490315467119217, -0.012227833271026611, 0.008324909023940563, 0.022485703229904175, 0.008027070201933384, -0.0146695701405406, -0.06541486084461212, -0.05147569999098778, -0.094986192882061, 0.013607509434223175, 0.03614524379372597, -0.06584896892309189, 0.02330072410404682, 0.01986565627157688, -0.03939255699515343, 0.03903249278664589, -0.014906100928783417, -0.004480115603655577, 0.02201995998620987, 0.01694008894264698, 0.0016094683669507504, -0.03616698831319809, 0.010148022323846817, -0.014006995595991611, -0.004566172603517771, 0.007973222061991692, 0.05255662277340889, -0.005978757981210947, -0.0021995194256305695, -0.05054255947470665, -0.02812788262963295, -0.00032862756052054465, -0.03553066775202751, -0.023190531879663467, 0.04667579382658005, 0.025056276470422745, -0.011696542613208294, -0.029318450018763542, 0.004396922420710325, 0.01972704939544201, 0.01279929094016552, 0.014227289706468582, -0.037036627531051636, -0.013473364524543285, 0.039955563843250275, 0.0159006230533123, 0.012737502343952656, -0.019018754363059998, 0.011163371615111828, 0.0273745059967041, 0.03655591607093811, 0.022835059091448784, -0.06472548097372055, -0.021447813138365746, 0.04304090514779091, -0.0056878444738686085, -0.037554435431957245, 0.02278706431388855, 0.027627358213067055, -0.03027891181409359, 0.02856244333088398, 0.04648977890610695, 0.035401295870542526, -0.0008924360736273229, 0.0062461295165121555, -0.0375683568418026, 0.049666691571474075, -0.035413213074207306, -0.014511202462017536, -0.013354414142668247, -0.025289718061685562, 0.06283269077539444, -0.03422374650835991, -0.05105600133538246, 0.028158657252788544, -0.002091046655550599, 0.08340000361204147, 0.011498275212943554, 0.046376872807741165, -0.051301371306180954, -0.09054433554410934, 0.015567127615213394, -0.029685696586966515, 0.04216353967785835, 0.05808422341942787, 0.03326542302966118, -0.01751340739428997, -0.013355470262467861, -0.037274982780218124, 0.025156443938612938, -0.08884350210428238, -0.02203797549009323, 0.006678648293018341, -0.017261585220694542, 0.04503563418984413, 0.05910320580005646, -0.0038435349706560373, -0.03692549839615822, -0.013317983597517014, -0.009951629675924778, 0.02687716856598854, -0.024967681616544724, -0.012137098237872124, 0.014613339677453041, 0.016292370855808258, 0.04470542073249817, -0.0033545990008860826, 0.008717394433915615, 0.016280336305499077]\n"
     ]
    }
   ],
   "source": [
    "vector = embeddings.embed_query(pages_char_split[3].page_content)\n",
    "print(vector)"
   ]
  },
  {
   "cell_type": "code",
   "execution_count": null,
   "id": "fa8f0579",
   "metadata": {},
   "outputs": [
    {
     "name": "stderr",
     "output_type": "stream",
     "text": [
      "Failed to send telemetry event ClientStartEvent: capture() takes 1 positional argument but 3 were given\n",
      "Failed to send telemetry event ClientCreateCollectionEvent: capture() takes 1 positional argument but 3 were given\n"
     ]
    }
   ],
   "source": [
    "# vectorstore = Chroma.from_documents(documents=pages_char_split,\n",
    "#                                     embedding=embeddings,\n",
    "#                                     persist_directory='./test')"
   ]
  }
 ],
 "metadata": {
  "kernelspec": {
   "display_name": "ai",
   "language": "python",
   "name": "python3"
  },
  "language_info": {
   "codemirror_mode": {
    "name": "ipython",
    "version": 3
   },
   "file_extension": ".py",
   "mimetype": "text/x-python",
   "name": "python",
   "nbconvert_exporter": "python",
   "pygments_lexer": "ipython3",
   "version": "3.13.5"
  }
 },
 "nbformat": 4,
 "nbformat_minor": 5
}
