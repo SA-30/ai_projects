{
 "cells": [
  {
   "cell_type": "markdown",
   "id": "8ac5aafb",
   "metadata": {},
   "source": [
    "### Importing model & Tokenizer"
   ]
  },
  {
   "cell_type": "code",
   "execution_count": 2,
   "id": "4b2d30c5",
   "metadata": {},
   "outputs": [],
   "source": [
    "from transformers import BertForQuestionAnswering\n",
    "from transformers import BertTokenizer\n",
    "import torch"
   ]
  },
  {
   "cell_type": "code",
   "execution_count": 3,
   "id": "7d9d9308",
   "metadata": {},
   "outputs": [],
   "source": [
    "model_name = \"bert-large-uncased-whole-word-masking-finetuned-squad\""
   ]
  },
  {
   "cell_type": "code",
   "execution_count": 4,
   "id": "9345763b",
   "metadata": {},
   "outputs": [
    {
     "data": {
      "application/vnd.jupyter.widget-view+json": {
       "model_id": "5bdb2e7013354fd2904e3a877a17956f",
       "version_major": 2,
       "version_minor": 0
      },
      "text/plain": [
       "config.json:   0%|          | 0.00/443 [00:00<?, ?B/s]"
      ]
     },
     "metadata": {},
     "output_type": "display_data"
    },
    {
     "data": {
      "application/vnd.jupyter.widget-view+json": {
       "model_id": "ce0a6ef789fe447bbbc6f0260e29e1e4",
       "version_major": 2,
       "version_minor": 0
      },
      "text/plain": [
       "model.safetensors:   0%|          | 0.00/1.34G [00:00<?, ?B/s]"
      ]
     },
     "metadata": {},
     "output_type": "display_data"
    },
    {
     "name": "stderr",
     "output_type": "stream",
     "text": [
      "Some weights of the model checkpoint at bert-large-uncased-whole-word-masking-finetuned-squad were not used when initializing BertForQuestionAnswering: ['bert.pooler.dense.bias', 'bert.pooler.dense.weight']\n",
      "- This IS expected if you are initializing BertForQuestionAnswering from the checkpoint of a model trained on another task or with another architecture (e.g. initializing a BertForSequenceClassification model from a BertForPreTraining model).\n",
      "- This IS NOT expected if you are initializing BertForQuestionAnswering from the checkpoint of a model that you expect to be exactly identical (initializing a BertForSequenceClassification model from a BertForSequenceClassification model).\n"
     ]
    }
   ],
   "source": [
    "model = BertForQuestionAnswering.from_pretrained(model_name)"
   ]
  },
  {
   "cell_type": "code",
   "execution_count": 5,
   "id": "44d5bd7e",
   "metadata": {},
   "outputs": [
    {
     "data": {
      "application/vnd.jupyter.widget-view+json": {
       "model_id": "c9d851e8b913447aa0d4a85f848e5b79",
       "version_major": 2,
       "version_minor": 0
      },
      "text/plain": [
       "tokenizer_config.json:   0%|          | 0.00/48.0 [00:00<?, ?B/s]"
      ]
     },
     "metadata": {},
     "output_type": "display_data"
    },
    {
     "data": {
      "application/vnd.jupyter.widget-view+json": {
       "model_id": "ef696e13ed6c4ac2869de5feab6acece",
       "version_major": 2,
       "version_minor": 0
      },
      "text/plain": [
       "vocab.txt:   0%|          | 0.00/232k [00:00<?, ?B/s]"
      ]
     },
     "metadata": {},
     "output_type": "display_data"
    },
    {
     "data": {
      "application/vnd.jupyter.widget-view+json": {
       "model_id": "e4a0cd1226174a0fa4a4361c1163d706",
       "version_major": 2,
       "version_minor": 0
      },
      "text/plain": [
       "tokenizer.json:   0%|          | 0.00/466k [00:00<?, ?B/s]"
      ]
     },
     "metadata": {},
     "output_type": "display_data"
    }
   ],
   "source": [
    "tokenizer = BertTokenizer.from_pretrained(model_name)"
   ]
  },
  {
   "cell_type": "markdown",
   "id": "4c996877",
   "metadata": {},
   "source": [
    "### Embeddings"
   ]
  },
  {
   "cell_type": "code",
   "execution_count": 6,
   "id": "71211b9c",
   "metadata": {},
   "outputs": [],
   "source": [
    "qes = \"When was the first dvd released?\"\n",
    "ans_doc = \"The first DVD (Digital Versatile Disc) was released on March 24, 1997. It was a movie titled 'Twister' and was released in Japan.\""
   ]
  },
  {
   "cell_type": "code",
   "execution_count": 7,
   "id": "5852ffa6",
   "metadata": {},
   "outputs": [
    {
     "name": "stdout",
     "output_type": "stream",
     "text": [
      "{'input_ids': [101, 2043, 2001, 1996, 2034, 4966, 2207, 1029, 102, 1996, 2034, 4966, 1006, 3617, 22979, 5860, 1007, 2001, 2207, 2006, 2233, 2484, 1010, 2722, 1012, 2009, 2001, 1037, 3185, 4159, 1005, 9792, 2121, 1005, 1998, 2001, 2207, 1999, 2900, 1012, 102], 'token_type_ids': [0, 0, 0, 0, 0, 0, 0, 0, 0, 1, 1, 1, 1, 1, 1, 1, 1, 1, 1, 1, 1, 1, 1, 1, 1, 1, 1, 1, 1, 1, 1, 1, 1, 1, 1, 1, 1, 1, 1, 1, 1], 'attention_mask': [1, 1, 1, 1, 1, 1, 1, 1, 1, 1, 1, 1, 1, 1, 1, 1, 1, 1, 1, 1, 1, 1, 1, 1, 1, 1, 1, 1, 1, 1, 1, 1, 1, 1, 1, 1, 1, 1, 1, 1, 1]}\n"
     ]
    }
   ],
   "source": [
    "encoding = tokenizer.encode_plus(text=qes, text_pair=ans_doc)\n",
    "print(encoding)"
   ]
  },
  {
   "cell_type": "code",
   "execution_count": 8,
   "id": "46258784",
   "metadata": {},
   "outputs": [],
   "source": [
    "inputs = encoding['input_ids']\n",
    "sentence_embedding = encoding['token_type_ids']\n",
    "tokens = tokenizer.convert_ids_to_tokens(inputs)"
   ]
  },
  {
   "cell_type": "code",
   "execution_count": 9,
   "id": "03249314",
   "metadata": {},
   "outputs": [
    {
     "name": "stdout",
     "output_type": "stream",
     "text": [
      "[CLS]\n",
      "[SEP]\n"
     ]
    }
   ],
   "source": [
    "print(tokenizer.decode(101))\n",
    "print(tokenizer.decode(102))"
   ]
  },
  {
   "cell_type": "code",
   "execution_count": 10,
   "id": "1f48da2b",
   "metadata": {},
   "outputs": [],
   "source": [
    "output = model(input_ids = torch.tensor([inputs]), token_type_ids = torch.tensor([sentence_embedding]))"
   ]
  },
  {
   "cell_type": "code",
   "execution_count": 11,
   "id": "42c7f35f",
   "metadata": {},
   "outputs": [
    {
     "data": {
      "text/plain": [
       "QuestionAnsweringModelOutput(loss=None, start_logits=tensor([[-5.9933, -5.6337, -7.7490, -6.9855, -7.0095, -7.0431, -6.8803, -8.8654,\n",
       "         -5.9933,  2.5914,  0.7486, -1.2023, -5.3193, -3.0590, -5.7897, -6.0968,\n",
       "         -3.9138,  0.0109,  0.3063,  2.7610,  8.3968,  1.2349, -2.6101,  3.3470,\n",
       "         -3.7737, -2.7310, -6.1388, -4.9750, -3.5969, -5.7935, -5.1681, -4.2574,\n",
       "         -6.7649, -6.6634, -7.0774, -5.2035, -3.6942, -4.3716, -1.6285, -5.9940,\n",
       "         -5.9933]], grad_fn=<CloneBackward0>), end_logits=tensor([[-0.5517, -6.0053, -6.4805, -7.7460, -6.9394, -5.7487, -7.1025, -6.0848,\n",
       "         -0.5515, -4.4967, -3.2276, -1.3927, -6.6288, -5.2535, -4.8436, -4.4169,\n",
       "         -3.3680, -4.0887, -2.8982, -2.4303, -0.2052,  1.4324,  0.3900,  9.4551,\n",
       "          5.1440, -3.9077, -5.8027, -6.0257, -2.7210, -4.9631, -6.2113, -5.1053,\n",
       "         -3.1412, -2.8056, -5.7051, -6.0462, -5.5627, -6.2826, -0.6443, -0.5528,\n",
       "         -0.5526]], grad_fn=<CloneBackward0>), hidden_states=None, attentions=None)"
      ]
     },
     "execution_count": 11,
     "metadata": {},
     "output_type": "execute_result"
    }
   ],
   "source": [
    "output"
   ]
  },
  {
   "cell_type": "markdown",
   "id": "61f688d0",
   "metadata": {},
   "source": [
    "### Output"
   ]
  },
  {
   "cell_type": "code",
   "execution_count": 12,
   "id": "fdcd9312",
   "metadata": {},
   "outputs": [],
   "source": [
    "start_index = torch.argmax(output.start_logits)\n",
    "end_index = torch.argmax(output.end_logits)"
   ]
  },
  {
   "cell_type": "code",
   "execution_count": 15,
   "id": "ed336c9d",
   "metadata": {},
   "outputs": [
    {
     "name": "stdout",
     "output_type": "stream",
     "text": [
      "tensor(20)\n",
      "tensor(23)\n"
     ]
    }
   ],
   "source": [
    "print(start_index)\n",
    "print(end_index)"
   ]
  },
  {
   "cell_type": "code",
   "execution_count": 16,
   "id": "af6e5757",
   "metadata": {},
   "outputs": [
    {
     "name": "stdout",
     "output_type": "stream",
     "text": [
      "march 24 , 1997\n"
     ]
    }
   ],
   "source": [
    "answer = ' '.join(tokens[start_index:end_index+1])\n",
    "print(answer)"
   ]
  },
  {
   "cell_type": "markdown",
   "id": "36fe4b37",
   "metadata": {},
   "source": [
    "### FAQ Chatbot"
   ]
  },
  {
   "cell_type": "code",
   "execution_count": 18,
   "id": "cd0fca8c",
   "metadata": {},
   "outputs": [],
   "source": [
    "context_sen = \"This is the context about a company that deals with computer parts. It is founded in 1990s by a programmer named SA30. It now have 3 branches and multinational brand value. It also works with selling softwares and hardware related to usb.\""
   ]
  },
  {
   "cell_type": "code",
   "execution_count": 24,
   "id": "d0e13cf1",
   "metadata": {},
   "outputs": [],
   "source": [
    "def faq_bot(que):\n",
    "    context = context_sen\n",
    "    input_ids = tokenizer.encode(que, context)\n",
    "    tokens = tokenizer.convert_ids_to_tokens(input_ids)\n",
    "    sep_idx = input_ids.index(tokenizer.sep_token_id)\n",
    "    num_seg_a = sep_idx + 1\n",
    "    num_seg_b = len(input_ids) - num_seg_a\n",
    "    segment_ids = [0] * num_seg_a + [1] * num_seg_b\n",
    "\n",
    "    output = model(torch.tensor([input_ids]), token_type_ids = torch.tensor([segment_ids]))\n",
    "    ans_start = torch.argmax(output.start_logits)\n",
    "    ans_end = torch.argmax(output.end_logits)\n",
    "\n",
    "    if ans_end >= ans_start:\n",
    "        ans = ' '.join(tokens[ans_start:ans_end+1])\n",
    "    else:\n",
    "        print(\"I am unable to ans this plz ask again\")\n",
    "    \n",
    "    corrected_ans = \"\"\n",
    "    for word in ans.split():\n",
    "        if word[0:2] == '##':\n",
    "            corrected_ans += word[2:]\n",
    "        else:\n",
    "            corrected_ans += ' ' + word\n",
    "\n",
    "    return corrected_ans"
   ]
  },
  {
   "cell_type": "code",
   "execution_count": 25,
   "id": "cb369d7d",
   "metadata": {},
   "outputs": [
    {
     "data": {
      "text/plain": [
       "' deals with computer parts'"
      ]
     },
     "execution_count": 25,
     "metadata": {},
     "output_type": "execute_result"
    }
   ],
   "source": [
    "faq_bot(\"what does this company does?\")"
   ]
  }
 ],
 "metadata": {
  "kernelspec": {
   "display_name": "ai",
   "language": "python",
   "name": "python3"
  },
  "language_info": {
   "codemirror_mode": {
    "name": "ipython",
    "version": 3
   },
   "file_extension": ".py",
   "mimetype": "text/x-python",
   "name": "python",
   "nbconvert_exporter": "python",
   "pygments_lexer": "ipython3",
   "version": "3.10.16"
  }
 },
 "nbformat": 4,
 "nbformat_minor": 5
}
