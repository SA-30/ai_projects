{
 "cells": [
  {
   "cell_type": "markdown",
   "id": "45cd13ed",
   "metadata": {},
   "source": [
    "## Importing module"
   ]
  },
  {
   "cell_type": "code",
   "execution_count": 25,
   "id": "fbc31801",
   "metadata": {},
   "outputs": [],
   "source": [
    "import re\n",
    "import spacy\n",
    "import nltk\n",
    "from nltk.corpus import stopwords\n",
    "from nltk.stem import PorterStemmer, WordNetLemmatizer\n",
    "from nltk.tokenize import word_tokenize\n",
    "\n",
    "import pandas as pd\n",
    "import matplotlib.pyplot as plt"
   ]
  },
  {
   "cell_type": "markdown",
   "id": "23e80dac",
   "metadata": {},
   "source": [
    "## Loading data"
   ]
  },
  {
   "cell_type": "code",
   "execution_count": 4,
   "id": "2b12ca22",
   "metadata": {},
   "outputs": [
    {
     "data": {
      "text/html": [
       "<div>\n",
       "<style scoped>\n",
       "    .dataframe tbody tr th:only-of-type {\n",
       "        vertical-align: middle;\n",
       "    }\n",
       "\n",
       "    .dataframe tbody tr th {\n",
       "        vertical-align: top;\n",
       "    }\n",
       "\n",
       "    .dataframe thead th {\n",
       "        text-align: right;\n",
       "    }\n",
       "</style>\n",
       "<table border=\"1\" class=\"dataframe\">\n",
       "  <thead>\n",
       "    <tr style=\"text-align: right;\">\n",
       "      <th></th>\n",
       "      <th>Unnamed: 0</th>\n",
       "      <th>index</th>\n",
       "      <th>title</th>\n",
       "      <th>pubDate</th>\n",
       "      <th>guid</th>\n",
       "      <th>link</th>\n",
       "      <th>description</th>\n",
       "    </tr>\n",
       "  </thead>\n",
       "  <tbody>\n",
       "    <tr>\n",
       "      <th>0</th>\n",
       "      <td>0</td>\n",
       "      <td>6684</td>\n",
       "      <td>Can I refuse to work?</td>\n",
       "      <td>Wed, 10 Aug 2022 15:46:18 GMT</td>\n",
       "      <td>https://www.bbc.co.uk/news/business-62147992</td>\n",
       "      <td>https://www.bbc.co.uk/news/business-62147992?a...</td>\n",
       "      <td>With much of the UK enduring another period of...</td>\n",
       "    </tr>\n",
       "    <tr>\n",
       "      <th>1</th>\n",
       "      <td>1</td>\n",
       "      <td>9267</td>\n",
       "      <td>'Liz Truss the Brief?' World reacts to UK poli...</td>\n",
       "      <td>Mon, 17 Oct 2022 11:35:12 GMT</td>\n",
       "      <td>https://www.bbc.co.uk/news/world-63285480</td>\n",
       "      <td>https://www.bbc.co.uk/news/world-63285480?at_m...</td>\n",
       "      <td>The UK's political chaos has been watched arou...</td>\n",
       "    </tr>\n",
       "    <tr>\n",
       "      <th>2</th>\n",
       "      <td>2</td>\n",
       "      <td>7387</td>\n",
       "      <td>Rationing energy is nothing new for off-grid c...</td>\n",
       "      <td>Wed, 31 Aug 2022 05:20:18 GMT</td>\n",
       "      <td>https://www.bbc.co.uk/news/uk-scotland-highlan...</td>\n",
       "      <td>https://www.bbc.co.uk/news/uk-scotland-highlan...</td>\n",
       "      <td>Scoraig in the north west Highlands has long h...</td>\n",
       "    </tr>\n",
       "    <tr>\n",
       "      <th>3</th>\n",
       "      <td>3</td>\n",
       "      <td>767</td>\n",
       "      <td>The hunt for superyachts of sanctioned Russian...</td>\n",
       "      <td>Tue, 22 Mar 2022 14:37:01 GMT</td>\n",
       "      <td>https://www.bbc.co.uk/news/60739336</td>\n",
       "      <td>https://www.bbc.co.uk/news/60739336?at_medium=...</td>\n",
       "      <td>Wealthy Russians sanctioned by the US, EU and ...</td>\n",
       "    </tr>\n",
       "    <tr>\n",
       "      <th>4</th>\n",
       "      <td>4</td>\n",
       "      <td>3712</td>\n",
       "      <td>Platinum Jubilee: 70 years of the Queen in 70 ...</td>\n",
       "      <td>Wed, 01 Jun 2022 23:17:33 GMT</td>\n",
       "      <td>https://www.bbc.co.uk/news/uk-61660128</td>\n",
       "      <td>https://www.bbc.co.uk/news/uk-61660128?at_medi...</td>\n",
       "      <td>A quick look back at the Queen's 70 years on t...</td>\n",
       "    </tr>\n",
       "  </tbody>\n",
       "</table>\n",
       "</div>"
      ],
      "text/plain": [
       "   Unnamed: 0  ...                                        description\n",
       "0           0  ...  With much of the UK enduring another period of...\n",
       "1           1  ...  The UK's political chaos has been watched arou...\n",
       "2           2  ...  Scoraig in the north west Highlands has long h...\n",
       "3           3  ...  Wealthy Russians sanctioned by the US, EU and ...\n",
       "4           4  ...  A quick look back at the Queen's 70 years on t...\n",
       "\n",
       "[5 rows x 7 columns]"
      ]
     },
     "execution_count": 4,
     "metadata": {},
     "output_type": "execute_result"
    }
   ],
   "source": [
    "bbc_news = pd.read_csv(\"./datasets/bbc_news.csv\")\n",
    "bbc_news.head()"
   ]
  },
  {
   "cell_type": "code",
   "execution_count": 5,
   "id": "6d9b6806",
   "metadata": {},
   "outputs": [
    {
     "name": "stdout",
     "output_type": "stream",
     "text": [
      "<class 'pandas.core.frame.DataFrame'>\n",
      "RangeIndex: 1000 entries, 0 to 999\n",
      "Data columns (total 7 columns):\n",
      " #   Column       Non-Null Count  Dtype \n",
      "---  ------       --------------  ----- \n",
      " 0   Unnamed: 0   1000 non-null   int64 \n",
      " 1   index        1000 non-null   int64 \n",
      " 2   title        1000 non-null   object\n",
      " 3   pubDate      1000 non-null   object\n",
      " 4   guid         1000 non-null   object\n",
      " 5   link         1000 non-null   object\n",
      " 6   description  1000 non-null   object\n",
      "dtypes: int64(2), object(5)\n",
      "memory usage: 54.8+ KB\n"
     ]
    }
   ],
   "source": [
    "bbc_news.info()"
   ]
  },
  {
   "cell_type": "code",
   "execution_count": 12,
   "id": "51f37410",
   "metadata": {},
   "outputs": [
    {
     "data": {
      "text/html": [
       "<div>\n",
       "<style scoped>\n",
       "    .dataframe tbody tr th:only-of-type {\n",
       "        vertical-align: middle;\n",
       "    }\n",
       "\n",
       "    .dataframe tbody tr th {\n",
       "        vertical-align: top;\n",
       "    }\n",
       "\n",
       "    .dataframe thead th {\n",
       "        text-align: right;\n",
       "    }\n",
       "</style>\n",
       "<table border=\"1\" class=\"dataframe\">\n",
       "  <thead>\n",
       "    <tr style=\"text-align: right;\">\n",
       "      <th></th>\n",
       "      <th>title</th>\n",
       "    </tr>\n",
       "  </thead>\n",
       "  <tbody>\n",
       "    <tr>\n",
       "      <th>0</th>\n",
       "      <td>Can I refuse to work?</td>\n",
       "    </tr>\n",
       "    <tr>\n",
       "      <th>1</th>\n",
       "      <td>'Liz Truss the Brief?' World reacts to UK poli...</td>\n",
       "    </tr>\n",
       "    <tr>\n",
       "      <th>2</th>\n",
       "      <td>Rationing energy is nothing new for off-grid c...</td>\n",
       "    </tr>\n",
       "    <tr>\n",
       "      <th>3</th>\n",
       "      <td>The hunt for superyachts of sanctioned Russian...</td>\n",
       "    </tr>\n",
       "    <tr>\n",
       "      <th>4</th>\n",
       "      <td>Platinum Jubilee: 70 years of the Queen in 70 ...</td>\n",
       "    </tr>\n",
       "  </tbody>\n",
       "</table>\n",
       "</div>"
      ],
      "text/plain": [
       "                                               title\n",
       "0                              Can I refuse to work?\n",
       "1  'Liz Truss the Brief?' World reacts to UK poli...\n",
       "2  Rationing energy is nothing new for off-grid c...\n",
       "3  The hunt for superyachts of sanctioned Russian...\n",
       "4  Platinum Jubilee: 70 years of the Queen in 70 ..."
      ]
     },
     "execution_count": 12,
     "metadata": {},
     "output_type": "execute_result"
    }
   ],
   "source": [
    "titles = pd.DataFrame(bbc_news[\"title\"])\n",
    "titles.head()"
   ]
  },
  {
   "cell_type": "markdown",
   "id": "ad540644",
   "metadata": {},
   "source": [
    "## Cleaning data"
   ]
  },
  {
   "cell_type": "code",
   "execution_count": 13,
   "id": "d2852026",
   "metadata": {},
   "outputs": [],
   "source": [
    "# lowercase\n",
    "titles['title_lowercase'] = titles['title'].str.lower()"
   ]
  },
  {
   "cell_type": "code",
   "execution_count": 14,
   "id": "e4f03e0a",
   "metadata": {},
   "outputs": [],
   "source": [
    "# stop word removal\n",
    "en_stopwords = stopwords.words(\"english\")\n",
    "en_stopwords.remove('not')\n",
    "titles['title_no_stopwords'] = titles['title_lowercase'].apply(lambda x: ' '.join([word for word in x.split() if word not in en_stopwords]))"
   ]
  },
  {
   "cell_type": "code",
   "execution_count": 16,
   "id": "02e179b9",
   "metadata": {},
   "outputs": [],
   "source": [
    "# punct removal\n",
    "titles['title_no_stopwords_punct'] = titles.apply(lambda x: re.sub(r\"[^\\w\\s]\", \"\", x['title_no_stopwords']), axis=1)"
   ]
  },
  {
   "cell_type": "code",
   "execution_count": 18,
   "id": "86fc120a",
   "metadata": {},
   "outputs": [],
   "source": [
    "# tokenize\n",
    "titles['title_raw_tokenized'] = titles.apply(lambda x: word_tokenize(x['title']), axis=1)\n",
    "titles['title_clean_tokenized'] = titles.apply(lambda x: word_tokenize(x['title_no_stopwords_punct']), axis=1)"
   ]
  },
  {
   "cell_type": "code",
   "execution_count": 19,
   "id": "45867125",
   "metadata": {},
   "outputs": [],
   "source": [
    "# lemmatizing\n",
    "lemmatizer = WordNetLemmatizer()\n",
    "titles['title_clean_lemmatized'] = titles['title_clean_tokenized'].apply(lambda tokens: [lemmatizer.lemmatize(token) for token in tokens])"
   ]
  },
  {
   "cell_type": "code",
   "execution_count": 22,
   "id": "9624119e",
   "metadata": {},
   "outputs": [
    {
     "data": {
      "text/html": [
       "<div>\n",
       "<style scoped>\n",
       "    .dataframe tbody tr th:only-of-type {\n",
       "        vertical-align: middle;\n",
       "    }\n",
       "\n",
       "    .dataframe tbody tr th {\n",
       "        vertical-align: top;\n",
       "    }\n",
       "\n",
       "    .dataframe thead th {\n",
       "        text-align: right;\n",
       "    }\n",
       "</style>\n",
       "<table border=\"1\" class=\"dataframe\">\n",
       "  <thead>\n",
       "    <tr style=\"text-align: right;\">\n",
       "      <th></th>\n",
       "      <th>title</th>\n",
       "      <th>title_lowercase</th>\n",
       "      <th>title_no_stopwords</th>\n",
       "      <th>title_no_stopwords_punct</th>\n",
       "      <th>title_raw_tokenized</th>\n",
       "      <th>title_clean_tokenized</th>\n",
       "      <th>title_clean_lemmatized</th>\n",
       "    </tr>\n",
       "  </thead>\n",
       "  <tbody>\n",
       "    <tr>\n",
       "      <th>0</th>\n",
       "      <td>Can I refuse to work?</td>\n",
       "      <td>can i refuse to work?</td>\n",
       "      <td>refuse work?</td>\n",
       "      <td>refuse work</td>\n",
       "      <td>[Can, I, refuse, to, work, ?]</td>\n",
       "      <td>[refuse, work]</td>\n",
       "      <td>[refuse, work]</td>\n",
       "    </tr>\n",
       "    <tr>\n",
       "      <th>1</th>\n",
       "      <td>'Liz Truss the Brief?' World reacts to UK poli...</td>\n",
       "      <td>'liz truss the brief?' world reacts to uk poli...</td>\n",
       "      <td>'liz truss brief?' world reacts uk political t...</td>\n",
       "      <td>liz truss brief world reacts uk political turmoil</td>\n",
       "      <td>['Liz, Truss, the, Brief, ?, ', World, reacts,...</td>\n",
       "      <td>[liz, truss, brief, world, reacts, uk, politic...</td>\n",
       "      <td>[liz, truss, brief, world, reacts, uk, politic...</td>\n",
       "    </tr>\n",
       "    <tr>\n",
       "      <th>2</th>\n",
       "      <td>Rationing energy is nothing new for off-grid c...</td>\n",
       "      <td>rationing energy is nothing new for off-grid c...</td>\n",
       "      <td>rationing energy nothing new off-grid community</td>\n",
       "      <td>rationing energy nothing new offgrid community</td>\n",
       "      <td>[Rationing, energy, is, nothing, new, for, off...</td>\n",
       "      <td>[rationing, energy, nothing, new, offgrid, com...</td>\n",
       "      <td>[rationing, energy, nothing, new, offgrid, com...</td>\n",
       "    </tr>\n",
       "    <tr>\n",
       "      <th>3</th>\n",
       "      <td>The hunt for superyachts of sanctioned Russian...</td>\n",
       "      <td>the hunt for superyachts of sanctioned russian...</td>\n",
       "      <td>hunt superyachts sanctioned russian oligarchs</td>\n",
       "      <td>hunt superyachts sanctioned russian oligarchs</td>\n",
       "      <td>[The, hunt, for, superyachts, of, sanctioned, ...</td>\n",
       "      <td>[hunt, superyachts, sanctioned, russian, oliga...</td>\n",
       "      <td>[hunt, superyachts, sanctioned, russian, oliga...</td>\n",
       "    </tr>\n",
       "    <tr>\n",
       "      <th>4</th>\n",
       "      <td>Platinum Jubilee: 70 years of the Queen in 70 ...</td>\n",
       "      <td>platinum jubilee: 70 years of the queen in 70 ...</td>\n",
       "      <td>platinum jubilee: 70 years queen 70 seconds</td>\n",
       "      <td>platinum jubilee 70 years queen 70 seconds</td>\n",
       "      <td>[Platinum, Jubilee, :, 70, years, of, the, Que...</td>\n",
       "      <td>[platinum, jubilee, 70, years, queen, 70, seco...</td>\n",
       "      <td>[platinum, jubilee, 70, year, queen, 70, second]</td>\n",
       "    </tr>\n",
       "  </tbody>\n",
       "</table>\n",
       "</div>"
      ],
      "text/plain": [
       "                                               title  ...                             title_clean_lemmatized\n",
       "0                              Can I refuse to work?  ...                                     [refuse, work]\n",
       "1  'Liz Truss the Brief?' World reacts to UK poli...  ...  [liz, truss, brief, world, reacts, uk, politic...\n",
       "2  Rationing energy is nothing new for off-grid c...  ...  [rationing, energy, nothing, new, offgrid, com...\n",
       "3  The hunt for superyachts of sanctioned Russian...  ...  [hunt, superyachts, sanctioned, russian, oliga...\n",
       "4  Platinum Jubilee: 70 years of the Queen in 70 ...  ...   [platinum, jubilee, 70, year, queen, 70, second]\n",
       "\n",
       "[5 rows x 7 columns]"
      ]
     },
     "execution_count": 22,
     "metadata": {},
     "output_type": "execute_result"
    }
   ],
   "source": [
    "titles.head()"
   ]
  },
  {
   "cell_type": "code",
   "execution_count": 24,
   "id": "4c3005ce",
   "metadata": {},
   "outputs": [],
   "source": [
    "# Creating lists for tokens only\n",
    "token_raw_list = sum(titles['title_raw_tokenized'], [])\n",
    "token_clean_list = sum(titles['title_clean_lemmatized'], [])"
   ]
  },
  {
   "cell_type": "markdown",
   "id": "2e12ed4b",
   "metadata": {},
   "source": [
    "## POS ***(part of speech tag)***"
   ]
  },
  {
   "cell_type": "code",
   "execution_count": null,
   "id": "4e51418c",
   "metadata": {},
   "outputs": [],
   "source": [
    "# Download en_core_web_sm\n",
    "!python -m spacy download en_core_web_sm"
   ]
  },
  {
   "cell_type": "code",
   "execution_count": 32,
   "id": "c820039c",
   "metadata": {},
   "outputs": [],
   "source": [
    "# load the spacy model\n",
    "nlp = spacy.load(\"en_core_web_sm\")"
   ]
  },
  {
   "cell_type": "code",
   "execution_count": 34,
   "id": "5c0f3014",
   "metadata": {},
   "outputs": [],
   "source": [
    "spacy_doc = nlp(' '.join(token_raw_list))"
   ]
  },
  {
   "cell_type": "code",
   "execution_count": 45,
   "id": "0ee33857",
   "metadata": {},
   "outputs": [],
   "source": [
    "pos_df = pd.DataFrame(columns= ['token', 'pos_tag'])"
   ]
  },
  {
   "cell_type": "code",
   "execution_count": 46,
   "id": "89312807",
   "metadata": {},
   "outputs": [],
   "source": [
    "for token in spacy_doc:\n",
    "    pos_df = pd.concat([pos_df, pd.DataFrame.from_records(\n",
    "        [{'token': token.text, 'pos_tag': token.pos_}])], ignore_index=True)"
   ]
  },
  {
   "cell_type": "code",
   "execution_count": 48,
   "id": "b140b72e",
   "metadata": {},
   "outputs": [
    {
     "data": {
      "text/html": [
       "<div>\n",
       "<style scoped>\n",
       "    .dataframe tbody tr th:only-of-type {\n",
       "        vertical-align: middle;\n",
       "    }\n",
       "\n",
       "    .dataframe tbody tr th {\n",
       "        vertical-align: top;\n",
       "    }\n",
       "\n",
       "    .dataframe thead th {\n",
       "        text-align: right;\n",
       "    }\n",
       "</style>\n",
       "<table border=\"1\" class=\"dataframe\">\n",
       "  <thead>\n",
       "    <tr style=\"text-align: right;\">\n",
       "      <th></th>\n",
       "      <th>token</th>\n",
       "      <th>pos_tag</th>\n",
       "      <th>counts</th>\n",
       "    </tr>\n",
       "  </thead>\n",
       "  <tbody>\n",
       "    <tr>\n",
       "      <th>94</th>\n",
       "      <td>:</td>\n",
       "      <td>PUNCT</td>\n",
       "      <td>543</td>\n",
       "    </tr>\n",
       "    <tr>\n",
       "      <th>7</th>\n",
       "      <td>'</td>\n",
       "      <td>PUNCT</td>\n",
       "      <td>315</td>\n",
       "    </tr>\n",
       "    <tr>\n",
       "      <th>2895</th>\n",
       "      <td>in</td>\n",
       "      <td>ADP</td>\n",
       "      <td>187</td>\n",
       "    </tr>\n",
       "    <tr>\n",
       "      <th>4072</th>\n",
       "      <td>to</td>\n",
       "      <td>PART</td>\n",
       "      <td>173</td>\n",
       "    </tr>\n",
       "    <tr>\n",
       "      <th>3262</th>\n",
       "      <td>of</td>\n",
       "      <td>ADP</td>\n",
       "      <td>172</td>\n",
       "    </tr>\n",
       "    <tr>\n",
       "      <th>21</th>\n",
       "      <td>-</td>\n",
       "      <td>PUNCT</td>\n",
       "      <td>165</td>\n",
       "    </tr>\n",
       "    <tr>\n",
       "      <th>4033</th>\n",
       "      <td>the</td>\n",
       "      <td>DET</td>\n",
       "      <td>163</td>\n",
       "    </tr>\n",
       "    <tr>\n",
       "      <th>1858</th>\n",
       "      <td>and</td>\n",
       "      <td>CCONJ</td>\n",
       "      <td>147</td>\n",
       "    </tr>\n",
       "    <tr>\n",
       "      <th>14</th>\n",
       "      <td>'s</td>\n",
       "      <td>PART</td>\n",
       "      <td>142</td>\n",
       "    </tr>\n",
       "    <tr>\n",
       "      <th>96</th>\n",
       "      <td>?</td>\n",
       "      <td>PUNCT</td>\n",
       "      <td>130</td>\n",
       "    </tr>\n",
       "  </tbody>\n",
       "</table>\n",
       "</div>"
      ],
      "text/plain": [
       "     token pos_tag  counts\n",
       "94       :   PUNCT     543\n",
       "7        '   PUNCT     315\n",
       "2895    in     ADP     187\n",
       "4072    to    PART     173\n",
       "3262    of     ADP     172\n",
       "21       -   PUNCT     165\n",
       "4033   the     DET     163\n",
       "1858   and   CCONJ     147\n",
       "14      's    PART     142\n",
       "96       ?   PUNCT     130"
      ]
     },
     "execution_count": 48,
     "metadata": {},
     "output_type": "execute_result"
    }
   ],
   "source": [
    "pos_df_counts = pos_df.groupby(['token', 'pos_tag']).size().reset_index(name='counts').sort_values(by='counts', ascending=False)\n",
    "pos_df_counts.head(10)"
   ]
  },
  {
   "cell_type": "code",
   "execution_count": 49,
   "id": "0c8df790",
   "metadata": {},
   "outputs": [
    {
     "data": {
      "text/html": [
       "<div>\n",
       "<style scoped>\n",
       "    .dataframe tbody tr th:only-of-type {\n",
       "        vertical-align: middle;\n",
       "    }\n",
       "\n",
       "    .dataframe tbody tr th {\n",
       "        vertical-align: top;\n",
       "    }\n",
       "\n",
       "    .dataframe thead th {\n",
       "        text-align: right;\n",
       "    }\n",
       "</style>\n",
       "<table border=\"1\" class=\"dataframe\">\n",
       "  <thead>\n",
       "    <tr style=\"text-align: right;\">\n",
       "      <th></th>\n",
       "      <th>token</th>\n",
       "      <th>pos_tag</th>\n",
       "      <th>counts</th>\n",
       "    </tr>\n",
       "  </thead>\n",
       "  <tbody>\n",
       "    <tr>\n",
       "      <th>4258</th>\n",
       "      <td>war</td>\n",
       "      <td>NOUN</td>\n",
       "      <td>35</td>\n",
       "    </tr>\n",
       "    <tr>\n",
       "      <th>3545</th>\n",
       "      <td>record</td>\n",
       "      <td>NOUN</td>\n",
       "      <td>15</td>\n",
       "    </tr>\n",
       "    <tr>\n",
       "      <th>4350</th>\n",
       "      <td>year</td>\n",
       "      <td>NOUN</td>\n",
       "      <td>14</td>\n",
       "    </tr>\n",
       "    <tr>\n",
       "      <th>3999</th>\n",
       "      <td>tax</td>\n",
       "      <td>NOUN</td>\n",
       "      <td>13</td>\n",
       "    </tr>\n",
       "    <tr>\n",
       "      <th>3411</th>\n",
       "      <td>police</td>\n",
       "      <td>NOUN</td>\n",
       "      <td>13</td>\n",
       "    </tr>\n",
       "    <tr>\n",
       "      <th>3362</th>\n",
       "      <td>people</td>\n",
       "      <td>NOUN</td>\n",
       "      <td>12</td>\n",
       "    </tr>\n",
       "    <tr>\n",
       "      <th>2323</th>\n",
       "      <td>day</td>\n",
       "      <td>NOUN</td>\n",
       "      <td>12</td>\n",
       "    </tr>\n",
       "    <tr>\n",
       "      <th>4307</th>\n",
       "      <td>win</td>\n",
       "      <td>NOUN</td>\n",
       "      <td>11</td>\n",
       "    </tr>\n",
       "    <tr>\n",
       "      <th>2029</th>\n",
       "      <td>boss</td>\n",
       "      <td>NOUN</td>\n",
       "      <td>11</td>\n",
       "    </tr>\n",
       "    <tr>\n",
       "      <th>2565</th>\n",
       "      <td>fans</td>\n",
       "      <td>NOUN</td>\n",
       "      <td>11</td>\n",
       "    </tr>\n",
       "  </tbody>\n",
       "</table>\n",
       "</div>"
      ],
      "text/plain": [
       "       token pos_tag  counts\n",
       "4258     war    NOUN      35\n",
       "3545  record    NOUN      15\n",
       "4350    year    NOUN      14\n",
       "3999     tax    NOUN      13\n",
       "3411  police    NOUN      13\n",
       "3362  people    NOUN      12\n",
       "2323     day    NOUN      12\n",
       "4307     win    NOUN      11\n",
       "2029    boss    NOUN      11\n",
       "2565    fans    NOUN      11"
      ]
     },
     "execution_count": 49,
     "metadata": {},
     "output_type": "execute_result"
    }
   ],
   "source": [
    "nouns = pos_df_counts[pos_df_counts.pos_tag == 'NOUN'][:10]\n",
    "nouns"
   ]
  },
  {
   "cell_type": "markdown",
   "id": "45b101ea",
   "metadata": {},
   "source": [
    "## NER ***(Name Entity Recognition)***"
   ]
  }
 ],
 "metadata": {
  "kernelspec": {
   "display_name": "ai",
   "language": "python",
   "name": "python3"
  },
  "language_info": {
   "codemirror_mode": {
    "name": "ipython",
    "version": 3
   },
   "file_extension": ".py",
   "mimetype": "text/x-python",
   "name": "python",
   "nbconvert_exporter": "python",
   "pygments_lexer": "ipython3",
   "version": "3.10.16"
  }
 },
 "nbformat": 4,
 "nbformat_minor": 5
}
