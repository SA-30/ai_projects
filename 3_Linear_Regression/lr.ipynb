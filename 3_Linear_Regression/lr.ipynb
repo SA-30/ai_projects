{
 "cells": [
  {
   "cell_type": "code",
   "execution_count": null,
   "id": "27357127",
   "metadata": {},
   "outputs": [],
   "source": [
    "# Dataset -> https://www.kaggle.com/datasets/kolawale/focusing-on-mobile-app-or-website"
   ]
  },
  {
   "cell_type": "code",
   "execution_count": null,
   "id": "f81231d0",
   "metadata": {},
   "outputs": [],
   "source": [
    "import pandas as pd\n",
    "import matplotlib.pyplot as plt\n",
    "import seaborn as sns"
   ]
  },
  {
   "cell_type": "code",
   "execution_count": null,
   "metadata": {},
   "outputs": [],
   "source": [
    "df = pd.read_csv(\"Ecommerce.csv\")\n",
    "df.head()"
   ]
  },
  {
   "cell_type": "code",
   "execution_count": null,
   "id": "015df676",
   "metadata": {},
   "outputs": [],
   "source": [
    "df.info()"
   ]
  },
  {
   "cell_type": "code",
   "execution_count": null,
   "id": "06d0ace3",
   "metadata": {},
   "outputs": [],
   "source": [
    "df.describe()"
   ]
  },
  {
   "cell_type": "code",
   "execution_count": null,
   "id": "d803c4d4",
   "metadata": {},
   "outputs": [],
   "source": [
    "df.isnull().sum()"
   ]
  },
  {
   "cell_type": "code",
   "execution_count": null,
   "metadata": {},
   "outputs": [],
   "source": [
    "sns.jointplot(x='Length of Membership', y='Yearly Amount Spent', data=df, alpha=0.4)"
   ]
  },
  {
   "cell_type": "code",
   "execution_count": null,
   "id": "1c686341",
   "metadata": {},
   "outputs": [],
   "source": [
    "sns.pairplot(df, kind='scatter', plot_kws={'alpha': 0.4})"
   ]
  },
  {
   "cell_type": "code",
   "execution_count": null,
   "metadata": {},
   "outputs": [],
   "source": [
    "sns.lmplot(x='Length of Membership', y='Yearly Amount Spent', data=df, scatter_kws={'alpha': 0.4})"
   ]
  },
  {
   "cell_type": "code",
   "execution_count": null,
   "id": "820a2890",
   "metadata": {},
   "outputs": [],
   "source": [
    "from sklearn.model_selection import train_test_split\n",
    "X = df[['Avg. Session Length', 'Time on App', 'Time on Website', 'Length of Membership']]\n",
    "y = df['Yearly Amount Spent']\n",
    "X_train, X_test, y_train, y_test = train_test_split(X, y, test_size=0.30, random_state=42)"
   ]
  },
  {
   "cell_type": "code",
   "execution_count": null,
   "metadata": {},
   "outputs": [],
   "source": [
    "from sklearn.linear_model import LinearRegression\n",
    "\n",
    "lr = LinearRegression()"
   ]
  },
  {
   "cell_type": "code",
   "execution_count": null,
   "metadata": {},
   "outputs": [],
   "source": [
    "lr.fit(X_train, y_train)"
   ]
  },
  {
   "cell_type": "code",
   "execution_count": null,
   "metadata": {},
   "outputs": [],
   "source": [
    "lr.coef_"
   ]
  },
  {
   "cell_type": "code",
   "execution_count": null,
   "metadata": {},
   "outputs": [],
   "source": [
    "cdf = pd.DataFrame(lr.coef_, X.columns, columns=['coef'])\n",
    "print(cdf)\n",
    "# Higher the coef higher the impact."
   ]
  },
  {
   "cell_type": "code",
   "execution_count": null,
   "metadata": {},
   "outputs": [],
   "source": [
    "# Scoring accuracy of the model\n",
    "score = lr.score(X_test, y_test)\n",
    "print(f\"Accuracy: {score*100: .2f}%\")"
   ]
  },
  {
   "cell_type": "code",
   "execution_count": null,
   "metadata": {},
   "outputs": [],
   "source": [
    "# Prediction\n",
    "prediction = lr.predict(X_test)"
   ]
  },
  {
   "cell_type": "code",
   "execution_count": null,
   "id": "739494ab",
   "metadata": {},
   "outputs": [],
   "source": [
    "prediction"
   ]
  },
  {
   "cell_type": "code",
   "execution_count": null,
   "metadata": {},
   "outputs": [],
   "source": [
    "sns.scatterplot(x=prediction, y=y_test)\n",
    "plt.xlabel('Prediction')\n",
    "plt.ylabel('Yearly Amount Spent')"
   ]
  },
  {
   "cell_type": "code",
   "execution_count": null,
   "id": "208e2278",
   "metadata": {},
   "outputs": [],
   "source": [
    "from sklearn.metrics import mean_squared_error, mean_absolute_error\n",
    "import math"
   ]
  },
  {
   "cell_type": "code",
   "execution_count": null,
   "id": "4b13e28c",
   "metadata": {},
   "outputs": [],
   "source": [
    "mae = mean_absolute_error(y_test, prediction)\n",
    "mse = mean_squared_error(y_test, prediction)\n",
    "rmse = math.sqrt(mse)"
   ]
  },
  {
   "cell_type": "code",
   "execution_count": null,
   "id": "43d1616f",
   "metadata": {},
   "outputs": [],
   "source": [
    "print(\"Mean Absolute Error \", mae)\n",
    "print(\"Mean Squared Error \", mse)\n",
    "print(\"Root Mean Squared Error \", rmse)"
   ]
  },
  {
   "cell_type": "markdown",
   "id": "1befce09",
   "metadata": {},
   "source": [
    "## Residuals¶\n",
    "In regression analysis, residuals are the differences between the observed values and the predicted values from the regression model. They represent the error in prediction and are crucial for assessing the quality of the model. Specifically, a residual is the vertical distance between a data point and the regression line."
   ]
  },
  {
   "cell_type": "code",
   "execution_count": null,
   "id": "c56322e1",
   "metadata": {},
   "outputs": [],
   "source": [
    "residuals = y_test - prediction\n",
    "residuals"
   ]
  },
  {
   "cell_type": "code",
   "execution_count": null,
   "id": "ca500679",
   "metadata": {},
   "outputs": [],
   "source": [
    "sns.displot(residuals, bins=24, kde=True)"
   ]
  }
 ],
 "metadata": {
  "language_info": {
   "name": "python"
  }
 },
 "nbformat": 4,
 "nbformat_minor": 5
}
